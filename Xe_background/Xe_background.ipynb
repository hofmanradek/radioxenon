{
 "cells": [
  {
   "cell_type": "code",
   "execution_count": 1,
   "metadata": {
    "collapsed": true
   },
   "outputs": [],
   "source": [
    "%matplotlib inline\n",
    "import matplotlib.pyplot as plt\n",
    "import os\n",
    "from datetime import datetime as dt\n",
    "import datetime\n",
    "import numpy\n"
   ]
  },
  {
   "cell_type": "code",
   "execution_count": 2,
   "metadata": {
    "collapsed": true
   },
   "outputs": [],
   "source": [
    "import matplotlib.pyplot as plt\n",
    "import os\n",
    "from datetime import datetime as dt\n",
    "import datetime\n",
    "import numpy"
   ]
  },
  {
   "cell_type": "code",
   "execution_count": 4,
   "metadata": {
    "collapsed": true
   },
   "outputs": [],
   "source": [
    "DATE_FORMAT = \"%Y-%m-%d %H:%M:%S\"\n",
    "CHANNELS_COUNT = 2048"
   ]
  },
  {
   "cell_type": "code",
   "execution_count": 5,
   "metadata": {
    "collapsed": false
   },
   "outputs": [
    {
     "data": {
      "text/plain": [
       "['2013-03_March',\n",
       " '2013-04_April',\n",
       " '2013-05_May',\n",
       " '2013-06_June',\n",
       " '2013-07_July',\n",
       " '2013-08_August',\n",
       " '2013-09_September',\n",
       " '2013-10_October',\n",
       " '2013-11_November',\n",
       " '2013-12_December',\n",
       " '2014-01_January',\n",
       " '2014-02_February',\n",
       " '2014-03_March',\n",
       " 'Stack_emissions_by_day.xlsx']"
      ]
     },
     "execution_count": 5,
     "metadata": {},
     "output_type": "execute_result"
    }
   ],
   "source": [
    "os.listdir('Sorted_by_month')"
   ]
  },
  {
   "cell_type": "code",
   "execution_count": 6,
   "metadata": {
    "collapsed": true
   },
   "outputs": [],
   "source": [
    "dirs = ['2013-03_March',\n",
    " '2013-04_April',\n",
    " '2013-05_May',\n",
    " '2013-06_June',\n",
    " '2013-07_July',\n",
    " '2013-08_August',\n",
    " '2013-09_September',\n",
    " '2013-10_October',\n",
    " '2013-11_November',\n",
    " '2013-12_December',\n",
    " '2014-01_January',\n",
    " '2014-02_February',\n",
    " '2014-03_March']"
   ]
  },
  {
   "cell_type": "code",
   "execution_count": 7,
   "metadata": {
    "collapsed": true
   },
   "outputs": [],
   "source": [
    "files = []\n",
    "for dir in dirs:\n",
    "    data_dir = os.path.join('Sorted_by_month', dir, 'Data')\n",
    "    files += sorted(os.listdir(data_dir))"
   ]
  },
  {
   "cell_type": "code",
   "execution_count": 8,
   "metadata": {
    "collapsed": false
   },
   "outputs": [
    {
     "name": "stdout",
     "output_type": "stream",
     "text": [
      "50824\n",
      "['DET01_2013-03-01_09-08-39.TXT', 'DET01_2013-03-01_09-18-43.TXT', 'DET01_2013-03-01_09-28-48.TXT', 'DET01_2013-03-01_09-38-53.TXT', 'DET01_2013-03-01_09-48-57.TXT', 'DET01_2013-03-01_09-59-02.TXT', 'DET01_2013-03-01_10-09-06.TXT', 'DET01_2013-03-01_10-19-11.TXT', 'DET01_2013-03-01_10-29-15.TXT', 'DET01_2013-03-01_10-39-20.TXT', 'DET01_2013-03-01_10-49-25.TXT', 'DET01_2013-03-01_10-59-29.TXT', 'DET01_2013-03-01_11-09-34.TXT', 'DET01_2013-03-01_11-19-39.TXT', 'DET01_2013-03-01_11-29-43.TXT']\n"
     ]
    }
   ],
   "source": [
    "print len(files)\n",
    "print files[:15]"
   ]
  },
  {
   "cell_type": "code",
   "execution_count": 9,
   "metadata": {
    "collapsed": false
   },
   "outputs": [],
   "source": [
    "def tfloat(s):\n",
    "    return tuple(map(float, s.strip().split()))\n",
    "   \n",
    "\n",
    "def dtime_from_fname(fname):\n",
    "    \"'DET01_2013-03-01_10-29-15.TXT'\"\n",
    "    return dt.strptime(fname, 'DET01_%Y-%m-%d_%H-%M-%S.TXT')\n",
    "\n",
    "\n",
    "def process_one_file(fname):\n",
    "    with open(fname, 'r') as f:\n",
    "        s = f.readlines()\n",
    "        date, time = s[0].strip().split()\n",
    "        dtime = dt.strptime(s[0].strip(), DATE_FORMAT)\n",
    "        \n",
    "        A, B, C, D = tfloat(s[1])\n",
    "        A1, B1 = tfloat(s[2])\n",
    "        A2, B2, C2 = tfloat(s[3])\n",
    "        \n",
    "        \n",
    "        energy = numpy.array([A + B*tfloat(s[i])[0] for i in range(4, len(s))])\n",
    "        counts = numpy.array([tfloat(s[i])[1] for i in range(4, len(s))])\n",
    "        \n",
    "        #print energy\n",
    "        #print counts, counts.max()\n",
    "        \n",
    "        #print A, B, C, D \n",
    "        #print A1, B1\n",
    "        #print A2, B2, C2\n",
    "\n",
    "        return energy, counts\n",
    "    \n",
    "    \n",
    "def output_energy_to_file(date, fcount, output_file, energy):\n",
    "    if fcount != 6:\n",
    "        print \"Outputing hour starting at\", date, \"created by\", fcount, \"files\"\n",
    "    with open(output_file, 'w+') as f:\n",
    "        f.write(dt.strftime(date, DATE_FORMAT)+\"\\n\")\n",
    "        f.write(\"1.0 2.0 3.0 4.0 \\n\")\n",
    "        f.write(\"5.0 6.0\\n\")\n",
    "        f.write(\"7.0 8.0 9.0\\n\")\n",
    "        \n",
    "        for i in range(energy.shape[0]):\n",
    "            f.write(\"%5d%11d\\n\" % (i, int(energy[i])))\n",
    "        \n",
    "        \n",
    "    \n",
    "\n",
    "def get_counts_by_1h(dirs, output_dir):\n",
    "    \n",
    "    \n",
    "    for dir in dirs:\n",
    "        data_dir = os.path.join('Sorted_by_month', dir, 'Data')\n",
    "        files = sorted(os.listdir(data_dir))\n",
    "  \n",
    "        date = None\n",
    "\n",
    "        delta = datetime.timedelta(seconds=60*60) # 1 hour delta\n",
    "        date = dtime_from_fname(files[0])\n",
    "        energy = numpy.zeros(CHANNELS_COUNT)\n",
    "        limit = len(files)\n",
    "        energy_all = numpy.zeros((int(limit/6.), CHANNELS_COUNT))\n",
    "        fcount = 0\n",
    "        ofile_index = 0\n",
    "        \n",
    "        for fname in files[:]:\n",
    "            fpath = os.path.join(data_dir, fname)\n",
    "\n",
    "            if dtime_from_fname(fname) <= date + delta:\n",
    "                energy += process_one_file(fpath)\n",
    "                fcount += 1\n",
    "            else:\n",
    "                output_file = os.path.join(output_dir, dt.strftime(date, 'DET01_%Y-%m-%d_%H-%M-%S.TXT'))\n",
    "                output_energy_to_file(date, fcount, output_file, energy)\n",
    "                date = dtime_from_fname(fname)\n",
    "                energy, counts = process_one_file(fpath)\n",
    "                energy_all[ofile_index, :] = counts\n",
    "                ofile_index += 1\n",
    "                fcount = 1\n",
    "                \n",
    "        return energy_all\n",
    "\n",
    "\n",
    "\n",
    "\n",
    "    "
   ]
  },
  {
   "cell_type": "code",
   "execution_count": 10,
   "metadata": {
    "collapsed": false
   },
   "outputs": [
    {
     "ename": "ValueError",
     "evalue": "non-broadcastable output operand with shape (2048,) doesn't match the broadcast shape (2,2048)",
     "output_type": "error",
     "traceback": [
      "\u001b[0;31m---------------------------------------------------------------------------\u001b[0m",
      "\u001b[0;31mValueError\u001b[0m                                Traceback (most recent call last)",
      "\u001b[0;32m<ipython-input-10-d97948e4786d>\u001b[0m in \u001b[0;36m<module>\u001b[0;34m()\u001b[0m\n\u001b[1;32m      1\u001b[0m \u001b[0moutput_dir\u001b[0m \u001b[1;33m=\u001b[0m \u001b[1;34m\"hourly\"\u001b[0m\u001b[1;33m\u001b[0m\u001b[0m\n\u001b[0;32m----> 2\u001b[0;31m \u001b[0menergy_all\u001b[0m \u001b[1;33m=\u001b[0m \u001b[0mget_counts_by_1h\u001b[0m\u001b[1;33m(\u001b[0m\u001b[0mdirs\u001b[0m\u001b[1;33m,\u001b[0m \u001b[0moutput_dir\u001b[0m\u001b[1;33m)\u001b[0m\u001b[1;33m\u001b[0m\u001b[0m\n\u001b[0m",
      "\u001b[0;32m<ipython-input-9-33a77b58ef36>\u001b[0m in \u001b[0;36mget_counts_by_1h\u001b[0;34m(dirs, output_dir)\u001b[0m\n\u001b[1;32m     68\u001b[0m \u001b[1;33m\u001b[0m\u001b[0m\n\u001b[1;32m     69\u001b[0m             \u001b[1;32mif\u001b[0m \u001b[0mdtime_from_fname\u001b[0m\u001b[1;33m(\u001b[0m\u001b[0mfname\u001b[0m\u001b[1;33m)\u001b[0m \u001b[1;33m<=\u001b[0m \u001b[0mdate\u001b[0m \u001b[1;33m+\u001b[0m \u001b[0mdelta\u001b[0m\u001b[1;33m:\u001b[0m\u001b[1;33m\u001b[0m\u001b[0m\n\u001b[0;32m---> 70\u001b[0;31m                 \u001b[0menergy\u001b[0m \u001b[1;33m+=\u001b[0m \u001b[0mprocess_one_file\u001b[0m\u001b[1;33m(\u001b[0m\u001b[0mfpath\u001b[0m\u001b[1;33m)\u001b[0m\u001b[1;33m\u001b[0m\u001b[0m\n\u001b[0m\u001b[1;32m     71\u001b[0m                 \u001b[0mfcount\u001b[0m \u001b[1;33m+=\u001b[0m \u001b[1;36m1\u001b[0m\u001b[1;33m\u001b[0m\u001b[0m\n\u001b[1;32m     72\u001b[0m             \u001b[1;32melse\u001b[0m\u001b[1;33m:\u001b[0m\u001b[1;33m\u001b[0m\u001b[0m\n",
      "\u001b[0;31mValueError\u001b[0m: non-broadcastable output operand with shape (2048,) doesn't match the broadcast shape (2,2048)"
     ]
    }
   ],
   "source": [
    "output_dir = \"hourly\"\n",
    "energy_all = get_counts_by_1h(dirs, output_dir)\n"
   ]
  },
  {
   "cell_type": "code",
   "execution_count": null,
   "metadata": {
    "collapsed": false
   },
   "outputs": [],
   "source": [
    "\n",
    "energy_all.max()"
   ]
  },
  {
   "cell_type": "code",
   "execution_count": null,
   "metadata": {
    "collapsed": true
   },
   "outputs": [],
   "source": [
    "#mport scipy.io\n",
    "#cipy.io.savemat(\"energy_all\", {\"energy_all\": energy_all}, do_compression=True)"
   ]
  },
  {
   "cell_type": "code",
   "execution_count": null,
   "metadata": {
    "collapsed": true
   },
   "outputs": [],
   "source": [
    "import scipy.io\n",
    "energy_all = scipy.io.loadmat(\"energy_all\")[\"energy_all\"]"
   ]
  },
  {
   "cell_type": "code",
   "execution_count": null,
   "metadata": {
    "collapsed": false
   },
   "outputs": [],
   "source": [
    "energy_all[98,:].max()"
   ]
  },
  {
   "cell_type": "code",
   "execution_count": null,
   "metadata": {
    "collapsed": false
   },
   "outputs": [],
   "source": [
    "fig = plt.figure(figsize=(10,10))\n",
    "ax = fig.add_subplot(111)\n",
    "for i in range(int(2000/6.)):\n",
    "    ax.plot(energy_all[i,:])\n",
    "    \n",
    "plt.savefig('energy.pdf')"
   ]
  },
  {
   "cell_type": "code",
   "execution_count": null,
   "metadata": {
    "collapsed": true
   },
   "outputs": [],
   "source": [
    "\n",
    "    "
   ]
  },
  {
   "cell_type": "code",
   "execution_count": null,
   "metadata": {
    "collapsed": true
   },
   "outputs": [],
   "source": [
    "plt.show()"
   ]
  },
  {
   "cell_type": "code",
   "execution_count": null,
   "metadata": {
    "collapsed": true
   },
   "outputs": [],
   "source": [
    "import peakutils"
   ]
  },
  {
   "cell_type": "code",
   "execution_count": null,
   "metadata": {
    "collapsed": true
   },
   "outputs": [],
   "source": [
    "energy, counts = process_one_file(os.path.join('hourly', 'DET01_2013-04-19_23-56-27.TXT'))"
   ]
  },
  {
   "cell_type": "code",
   "execution_count": null,
   "metadata": {
    "collapsed": false
   },
   "outputs": [],
   "source": [
    "energy"
   ]
  },
  {
   "cell_type": "code",
   "execution_count": null,
   "metadata": {
    "collapsed": false
   },
   "outputs": [],
   "source": [
    "fig = plt.figure(figsize=(12,8))\n",
    "ax = fig.add_subplot(111)\n",
    "l0 = 25\n",
    "l1 = 200\n",
    "ax.plot(energy[l0:l1], counts[l0:l1])\n",
    "ax.set_xlabel('energy (keV)')\n",
    "ax.set_ylabel('counts')\n"
   ]
  },
  {
   "cell_type": "code",
   "execution_count": null,
   "metadata": {
    "collapsed": true
   },
   "outputs": [],
   "source": [
    "data = counts[l0:l1]\n",
    "ex = energy[l0:l1]"
   ]
  },
  {
   "cell_type": "code",
   "execution_count": null,
   "metadata": {
    "collapsed": true
   },
   "outputs": [],
   "source": [
    "import peakutils\n",
    "base = peakutils.baseline(data, 2)"
   ]
  },
  {
   "cell_type": "code",
   "execution_count": null,
   "metadata": {
    "collapsed": false
   },
   "outputs": [],
   "source": [
    "fig = plt.figure(figsize=(12,8))\n",
    "ax = fig.add_subplot(111)\n",
    "ax.plot(ex, data, label='counts')\n",
    "ax.plot(ex, base, label='base')\n",
    "ax.set_xlabel('energy (keV)')\n",
    "ax.set_ylabel('counts')"
   ]
  },
  {
   "cell_type": "code",
   "execution_count": null,
   "metadata": {
    "collapsed": false
   },
   "outputs": [],
   "source": [
    "energy.shape"
   ]
  },
  {
   "cell_type": "code",
   "execution_count": null,
   "metadata": {
    "collapsed": false
   },
   "outputs": [],
   "source": [
    "energy_all.shape"
   ]
  },
  {
   "cell_type": "code",
   "execution_count": null,
   "metadata": {
    "collapsed": false
   },
   "outputs": [],
   "source": [
    "fig = plt.figure(figsize=(12,8))\n",
    "ax = fig.add_subplot(111)\n",
    "for i in range(energy_all.shape[0]):\n",
    "    ax.plot(energy_all[i,l0:l1])\n"
   ]
  },
  {
   "cell_type": "code",
   "execution_count": null,
   "metadata": {
    "collapsed": false
   },
   "outputs": [],
   "source": [
    "counts = energy_all[96,:]\n",
    "fig = plt.figure(figsize=(12,8))\n",
    "ax = fig.add_subplot(111)\n",
    "ax.plot(energy, counts)\n",
    "ax.set_xlabel('energy (keV)')\n",
    "ax.set_ylabel('counts')"
   ]
  },
  {
   "cell_type": "markdown",
   "metadata": {},
   "source": [
    "### CALIBRATION"
   ]
  },
  {
   "cell_type": "markdown",
   "metadata": {
    "collapsed": true
   },
   "source": [
    "1. read hourly file\n",
    "2. detect the peaks:\n",
    "    a.\t@ 36.5 keV peak: peak search at channel 20 +/- 5 channels. In some spectra, two local maxima might be detected. The second one has to be considered, not the first one; \n",
    "    b.\t@ 284.3 keV: peak search at channel 165 +/- 5 channels; \n",
    "    c.\t@ 364.5 keV: peak search at channel 211 +/- 5 channels; \n",
    "    d.\t@ 661.6 keV: peak search at channel 385 +/- 5 channels. \n",
    "3. do the quadratic fitting\n",
    "4. remap the scale\n",
    "5. write results to files\n"
   ]
  },
  {
   "cell_type": "code",
   "execution_count": 15,
   "metadata": {
    "collapsed": true
   },
   "outputs": [],
   "source": [
    "import scipy.io\n",
    "counts_all = scipy.io.loadmat(\"energy_all\")[\"energy_all\"]"
   ]
  },
  {
   "cell_type": "code",
   "execution_count": 16,
   "metadata": {
    "collapsed": true
   },
   "outputs": [],
   "source": [
    "expected_peak_centers = (20, 211, 385)\n",
    "#expected_peak_centers = (20, 115, 211, 385)\n",
    "corresponding_energies = (36.5, 364.5, 661.6)  # keV\n",
    "#corresponding_energies = (36.5, 284.3, 364.5, 661.6)  # keV\n"
   ]
  },
  {
   "cell_type": "code",
   "execution_count": 17,
   "metadata": {
    "collapsed": true
   },
   "outputs": [],
   "source": [
    "def find_peaks(x, delta=15):\n",
    "    #delta defines the radious\n",
    "    peaks = []\n",
    "    for p in expected_peak_centers:\n",
    "        x0 = x[p-delta: p+delta]\n",
    "        #pea = find_peaks_cwt(x0, numpy.arange(1,10))\n",
    "        #print pea\n",
    "        peaks.append(p-delta+x0.argmax())\n",
    "        \n",
    "    return numpy.array(peaks)"
   ]
  },
  {
   "cell_type": "code",
   "execution_count": 18,
   "metadata": {
    "collapsed": true
   },
   "outputs": [],
   "source": [
    "from scipy.signal import savgol_filter\n",
    "from scipy.signal import find_peaks_cwt"
   ]
  },
  {
   "cell_type": "code",
   "execution_count": 19,
   "metadata": {
    "collapsed": true
   },
   "outputs": [],
   "source": [
    "lim = 500\n",
    "counts = counts_all[196,:]\n",
    "\n",
    "xfilt = savgol_filter(counts[:lim], 5, 2)"
   ]
  },
  {
   "cell_type": "code",
   "execution_count": 20,
   "metadata": {
    "collapsed": true
   },
   "outputs": [],
   "source": [
    "peaks = find_peaks(xfilt)"
   ]
  },
  {
   "cell_type": "markdown",
   "metadata": {},
   "source": [
    "### Fit"
   ]
  },
  {
   "cell_type": "code",
   "execution_count": 21,
   "metadata": {
    "collapsed": true
   },
   "outputs": [],
   "source": [
    "x = peaks\n",
    "y = corresponding_energies\n",
    "z = numpy.polyfit(x, y, 2)"
   ]
  },
  {
   "cell_type": "code",
   "execution_count": 22,
   "metadata": {
    "collapsed": false
   },
   "outputs": [
    {
     "data": {
      "text/plain": [
       "array([ -7.17153423e-06,   1.69241413e+00,   9.62465884e-01])"
      ]
     },
     "execution_count": 22,
     "metadata": {},
     "output_type": "execute_result"
    }
   ],
   "source": [
    "z"
   ]
  },
  {
   "cell_type": "code",
   "execution_count": 19,
   "metadata": {
    "collapsed": true
   },
   "outputs": [],
   "source": [
    "trans_p = numpy.poly1d(z)"
   ]
  },
  {
   "cell_type": "code",
   "execution_count": 20,
   "metadata": {
    "collapsed": false
   },
   "outputs": [
    {
     "data": {
      "text/plain": [
       "array([  36.5,  364.5,  661.6])"
      ]
     },
     "execution_count": 20,
     "metadata": {},
     "output_type": "execute_result"
    }
   ],
   "source": [
    "#check\n",
    "trans_p(x)"
   ]
  },
  {
   "cell_type": "code",
   "execution_count": null,
   "metadata": {
    "collapsed": true
   },
   "outputs": [],
   "source": []
  },
  {
   "cell_type": "code",
   "execution_count": 21,
   "metadata": {
    "collapsed": false
   },
   "outputs": [],
   "source": [
    "def plot_calibration(counts, new_E_scale, lim, title, filename=None):\n",
    "\n",
    "    xfilt = savgol_filter(counts[:lim], 5, 2)\n",
    "    peaks = find_peaks(xfilt)\n",
    "\n",
    "    fig = plt.figure(figsize=(12,12))\n",
    "    plt.title(title,  fontsize=26)\n",
    "    ax = fig.add_subplot(411)\n",
    "    ax.plot(range(lim), counts[:lim],label='raw')\n",
    "    for peak in peaks:\n",
    "        ax.axvline(peak, color='r', label='peak detected')\n",
    "    plt.legend()\n",
    "    ax.set_ylabel('counts')\n",
    "    ax.set_xlabel('bins')\n",
    "    ax = fig.add_subplot(412)\n",
    "    ax.plot(range(lim), xfilt, label='filtered')\n",
    "    for peak in peaks:\n",
    "        ax.axvline(peak, color='r', label='peak detected')\n",
    "    plt.legend()\n",
    "    ax.set_ylabel('counts')\n",
    "    ax.set_xlabel('bins')\n",
    "    ax = fig.add_subplot(413)\n",
    "    colors = ('r','g','b')\n",
    "    for i, peak in enumerate(corresponding_energies):\n",
    "        ax.axvline(peak, linestyle='--',label='%3.1fkeV' % peak, color=colors[i])\n",
    "    ax.plot(new_E_scale[:lim], counts[:lim], label='calibrated',color='k')    \n",
    "    plt.legend()\n",
    "    ax.set_ylabel('counts')\n",
    "    ax.set_xlabel('Energy kev')\n",
    "    ax = fig.add_subplot(414)\n",
    "    colors = ('r','g','b')\n",
    "    for i, peak in enumerate(corresponding_energies):\n",
    "        ax.axvline(peak, linestyle='--',label='%3.1fkeV' % peak, color=colors[i])\n",
    "    ax.plot(new_E_scale[:lim], counts[:lim], label='calibrated',color='k')    \n",
    "    plt.legend()\n",
    "    ax.set_yscale('log')\n",
    "    ax.set_ylabel('counts')\n",
    "    ax.set_xlabel('Energy kev')\n",
    "\n",
    "    #fig.suptitle(title,  fontsize=26)\n",
    "    plt.tight_layout()\n",
    "    \n",
    "    if filename:\n",
    "        plt.savefig(filename)#, bbox_inches='tight')\n",
    "    \n",
    "    plt.close(fig)\n",
    "    \n"
   ]
  },
  {
   "cell_type": "code",
   "execution_count": 22,
   "metadata": {
    "collapsed": false
   },
   "outputs": [],
   "source": [
    "lim = 500\n",
    "counts = counts_all[196,:]\n",
    "new_E_scale = trans_p(range(lim))\n",
    "plot_calibration(counts, new_E_scale, lim, 'title', 'calib_plot.png')"
   ]
  },
  {
   "cell_type": "code",
   "execution_count": 23,
   "metadata": {
    "collapsed": false,
    "scrolled": true
   },
   "outputs": [
    {
     "name": "stdout",
     "output_type": "stream",
     "text": [
      "1200\n"
     ]
    },
    {
     "ename": "KeyboardInterrupt",
     "evalue": "",
     "output_type": "error",
     "traceback": [
      "\u001b[0;31m---------------------------------------------------------------------------\u001b[0m",
      "\u001b[0;31mKeyboardInterrupt\u001b[0m                         Traceback (most recent call last)",
      "\u001b[0;32m<ipython-input-23-be55758f4703>\u001b[0m in \u001b[0;36m<module>\u001b[0;34m()\u001b[0m\n\u001b[1;32m     28\u001b[0m \u001b[1;32mfor\u001b[0m \u001b[0mi\u001b[0m\u001b[1;33m,\u001b[0m \u001b[0mfn\u001b[0m \u001b[1;32min\u001b[0m \u001b[0menumerate\u001b[0m\u001b[1;33m(\u001b[0m\u001b[0mfiles\u001b[0m\u001b[1;33m[\u001b[0m\u001b[1;36m1200\u001b[0m\u001b[1;33m:\u001b[0m\u001b[1;33m]\u001b[0m\u001b[1;33m)\u001b[0m\u001b[1;33m:\u001b[0m\u001b[1;33m\u001b[0m\u001b[0m\n\u001b[1;32m     29\u001b[0m     \u001b[1;32mif\u001b[0m \u001b[1;32mnot\u001b[0m \u001b[1;33m(\u001b[0m\u001b[1;36m1200\u001b[0m\u001b[1;33m+\u001b[0m\u001b[0mi\u001b[0m\u001b[1;33m)\u001b[0m\u001b[1;33m%\u001b[0m\u001b[1;36m100\u001b[0m\u001b[1;33m:\u001b[0m \u001b[1;32mprint\u001b[0m\u001b[1;33m(\u001b[0m\u001b[0mi\u001b[0m\u001b[1;33m+\u001b[0m\u001b[1;36m1200\u001b[0m\u001b[1;33m)\u001b[0m\u001b[1;33m\u001b[0m\u001b[0m\n\u001b[0;32m---> 30\u001b[0;31m     \u001b[0mplot_calibrated_file\u001b[0m\u001b[1;33m(\u001b[0m\u001b[0mhourly_files_dir\u001b[0m\u001b[1;33m,\u001b[0m \u001b[0mfn\u001b[0m\u001b[1;33m,\u001b[0m \u001b[1;34m'hourly_calib_plots'\u001b[0m\u001b[1;33m)\u001b[0m\u001b[1;33m\u001b[0m\u001b[0m\n\u001b[0m",
      "\u001b[0;32m<ipython-input-23-be55758f4703>\u001b[0m in \u001b[0;36mplot_calibrated_file\u001b[0;34m(filedir, filename, outdir)\u001b[0m\n\u001b[1;32m     21\u001b[0m     \u001b[0mscalepoly\u001b[0m \u001b[1;33m=\u001b[0m \u001b[0mnumpy\u001b[0m\u001b[1;33m.\u001b[0m\u001b[0mpoly1d\u001b[0m\u001b[1;33m(\u001b[0m\u001b[0mz\u001b[0m\u001b[1;33m)\u001b[0m\u001b[1;33m\u001b[0m\u001b[0m\n\u001b[1;32m     22\u001b[0m     \u001b[0mnew_E_scale\u001b[0m \u001b[1;33m=\u001b[0m \u001b[0mscalepoly\u001b[0m\u001b[1;33m(\u001b[0m\u001b[0mrange\u001b[0m\u001b[1;33m(\u001b[0m\u001b[1;36m2048\u001b[0m\u001b[1;33m)\u001b[0m\u001b[1;33m)\u001b[0m\u001b[1;33m\u001b[0m\u001b[0m\n\u001b[0;32m---> 23\u001b[0;31m     \u001b[0mplot_calibration\u001b[0m\u001b[1;33m(\u001b[0m\u001b[0mcounts\u001b[0m\u001b[1;33m,\u001b[0m \u001b[0mnew_E_scale\u001b[0m\u001b[1;33m,\u001b[0m \u001b[1;36m500\u001b[0m\u001b[1;33m,\u001b[0m \u001b[0mfilename\u001b[0m\u001b[1;33m,\u001b[0m \u001b[0mos\u001b[0m\u001b[1;33m.\u001b[0m\u001b[0mpath\u001b[0m\u001b[1;33m.\u001b[0m\u001b[0mjoin\u001b[0m\u001b[1;33m(\u001b[0m\u001b[0moutdir\u001b[0m\u001b[1;33m,\u001b[0m \u001b[0mfilename\u001b[0m\u001b[1;33m)\u001b[0m\u001b[1;33m+\u001b[0m\u001b[1;34m'.png'\u001b[0m\u001b[1;33m)\u001b[0m\u001b[1;33m\u001b[0m\u001b[0m\n\u001b[0m\u001b[1;32m     24\u001b[0m \u001b[1;33m\u001b[0m\u001b[0m\n\u001b[1;32m     25\u001b[0m \u001b[0mhourly_files_dir\u001b[0m \u001b[1;33m=\u001b[0m \u001b[0mos\u001b[0m\u001b[1;33m.\u001b[0m\u001b[0mpath\u001b[0m\u001b[1;33m.\u001b[0m\u001b[0mjoin\u001b[0m\u001b[1;33m(\u001b[0m\u001b[1;34m'hourly'\u001b[0m\u001b[1;33m)\u001b[0m\u001b[1;33m\u001b[0m\u001b[0m\n",
      "\u001b[0;32m<ipython-input-21-b7f58e71c216>\u001b[0m in \u001b[0;36mplot_calibration\u001b[0;34m(counts, new_E_scale, lim, title, filename)\u001b[0m\n\u001b[1;32m     42\u001b[0m \u001b[1;33m\u001b[0m\u001b[0m\n\u001b[1;32m     43\u001b[0m     \u001b[1;32mif\u001b[0m \u001b[0mfilename\u001b[0m\u001b[1;33m:\u001b[0m\u001b[1;33m\u001b[0m\u001b[0m\n\u001b[0;32m---> 44\u001b[0;31m         \u001b[0mplt\u001b[0m\u001b[1;33m.\u001b[0m\u001b[0msavefig\u001b[0m\u001b[1;33m(\u001b[0m\u001b[0mfilename\u001b[0m\u001b[1;33m)\u001b[0m\u001b[1;31m#, bbox_inches='tight')\u001b[0m\u001b[1;33m\u001b[0m\u001b[0m\n\u001b[0m\u001b[1;32m     45\u001b[0m \u001b[1;33m\u001b[0m\u001b[0m\n\u001b[1;32m     46\u001b[0m     \u001b[0mplt\u001b[0m\u001b[1;33m.\u001b[0m\u001b[0mclose\u001b[0m\u001b[1;33m(\u001b[0m\u001b[0mfig\u001b[0m\u001b[1;33m)\u001b[0m\u001b[1;33m\u001b[0m\u001b[0m\n",
      "\u001b[0;32mC:\\Users\\hofman\\AppData\\Local\\Continuum\\Anaconda2\\lib\\site-packages\\matplotlib\\pyplot.pyc\u001b[0m in \u001b[0;36msavefig\u001b[0;34m(*args, **kwargs)\u001b[0m\n\u001b[1;32m    696\u001b[0m     \u001b[0mfig\u001b[0m \u001b[1;33m=\u001b[0m \u001b[0mgcf\u001b[0m\u001b[1;33m(\u001b[0m\u001b[1;33m)\u001b[0m\u001b[1;33m\u001b[0m\u001b[0m\n\u001b[1;32m    697\u001b[0m     \u001b[0mres\u001b[0m \u001b[1;33m=\u001b[0m \u001b[0mfig\u001b[0m\u001b[1;33m.\u001b[0m\u001b[0msavefig\u001b[0m\u001b[1;33m(\u001b[0m\u001b[1;33m*\u001b[0m\u001b[0margs\u001b[0m\u001b[1;33m,\u001b[0m \u001b[1;33m**\u001b[0m\u001b[0mkwargs\u001b[0m\u001b[1;33m)\u001b[0m\u001b[1;33m\u001b[0m\u001b[0m\n\u001b[0;32m--> 698\u001b[0;31m     \u001b[0mfig\u001b[0m\u001b[1;33m.\u001b[0m\u001b[0mcanvas\u001b[0m\u001b[1;33m.\u001b[0m\u001b[0mdraw_idle\u001b[0m\u001b[1;33m(\u001b[0m\u001b[1;33m)\u001b[0m   \u001b[1;31m# need this if 'transparent=True' to reset colors\u001b[0m\u001b[1;33m\u001b[0m\u001b[0m\n\u001b[0m\u001b[1;32m    699\u001b[0m     \u001b[1;32mreturn\u001b[0m \u001b[0mres\u001b[0m\u001b[1;33m\u001b[0m\u001b[0m\n\u001b[1;32m    700\u001b[0m \u001b[1;33m\u001b[0m\u001b[0m\n",
      "\u001b[0;32mC:\\Users\\hofman\\AppData\\Local\\Continuum\\Anaconda2\\lib\\site-packages\\matplotlib\\backend_bases.pyc\u001b[0m in \u001b[0;36mdraw_idle\u001b[0;34m(self, *args, **kwargs)\u001b[0m\n\u001b[1;32m   2030\u001b[0m         \u001b[1;32mif\u001b[0m \u001b[1;32mnot\u001b[0m \u001b[0mself\u001b[0m\u001b[1;33m.\u001b[0m\u001b[0m_is_idle_drawing\u001b[0m\u001b[1;33m:\u001b[0m\u001b[1;33m\u001b[0m\u001b[0m\n\u001b[1;32m   2031\u001b[0m             \u001b[1;32mwith\u001b[0m \u001b[0mself\u001b[0m\u001b[1;33m.\u001b[0m\u001b[0m_idle_draw_cntx\u001b[0m\u001b[1;33m(\u001b[0m\u001b[1;33m)\u001b[0m\u001b[1;33m:\u001b[0m\u001b[1;33m\u001b[0m\u001b[0m\n\u001b[0;32m-> 2032\u001b[0;31m                 \u001b[0mself\u001b[0m\u001b[1;33m.\u001b[0m\u001b[0mdraw\u001b[0m\u001b[1;33m(\u001b[0m\u001b[1;33m*\u001b[0m\u001b[0margs\u001b[0m\u001b[1;33m,\u001b[0m \u001b[1;33m**\u001b[0m\u001b[0mkwargs\u001b[0m\u001b[1;33m)\u001b[0m\u001b[1;33m\u001b[0m\u001b[0m\n\u001b[0m\u001b[1;32m   2033\u001b[0m \u001b[1;33m\u001b[0m\u001b[0m\n\u001b[1;32m   2034\u001b[0m     \u001b[1;32mdef\u001b[0m \u001b[0mdraw_cursor\u001b[0m\u001b[1;33m(\u001b[0m\u001b[0mself\u001b[0m\u001b[1;33m,\u001b[0m \u001b[0mevent\u001b[0m\u001b[1;33m)\u001b[0m\u001b[1;33m:\u001b[0m\u001b[1;33m\u001b[0m\u001b[0m\n",
      "\u001b[0;32mC:\\Users\\hofman\\AppData\\Local\\Continuum\\Anaconda2\\lib\\site-packages\\matplotlib\\backends\\backend_agg.pyc\u001b[0m in \u001b[0;36mdraw\u001b[0;34m(self)\u001b[0m\n\u001b[1;32m    462\u001b[0m \u001b[1;33m\u001b[0m\u001b[0m\n\u001b[1;32m    463\u001b[0m         \u001b[1;32mtry\u001b[0m\u001b[1;33m:\u001b[0m\u001b[1;33m\u001b[0m\u001b[0m\n\u001b[0;32m--> 464\u001b[0;31m             \u001b[0mself\u001b[0m\u001b[1;33m.\u001b[0m\u001b[0mfigure\u001b[0m\u001b[1;33m.\u001b[0m\u001b[0mdraw\u001b[0m\u001b[1;33m(\u001b[0m\u001b[0mself\u001b[0m\u001b[1;33m.\u001b[0m\u001b[0mrenderer\u001b[0m\u001b[1;33m)\u001b[0m\u001b[1;33m\u001b[0m\u001b[0m\n\u001b[0m\u001b[1;32m    465\u001b[0m         \u001b[1;32mfinally\u001b[0m\u001b[1;33m:\u001b[0m\u001b[1;33m\u001b[0m\u001b[0m\n\u001b[1;32m    466\u001b[0m             \u001b[0mRendererAgg\u001b[0m\u001b[1;33m.\u001b[0m\u001b[0mlock\u001b[0m\u001b[1;33m.\u001b[0m\u001b[0mrelease\u001b[0m\u001b[1;33m(\u001b[0m\u001b[1;33m)\u001b[0m\u001b[1;33m\u001b[0m\u001b[0m\n",
      "\u001b[0;32mC:\\Users\\hofman\\AppData\\Local\\Continuum\\Anaconda2\\lib\\site-packages\\matplotlib\\artist.pyc\u001b[0m in \u001b[0;36mdraw_wrapper\u001b[0;34m(artist, renderer, *args, **kwargs)\u001b[0m\n\u001b[1;32m     61\u001b[0m     \u001b[1;32mdef\u001b[0m \u001b[0mdraw_wrapper\u001b[0m\u001b[1;33m(\u001b[0m\u001b[0martist\u001b[0m\u001b[1;33m,\u001b[0m \u001b[0mrenderer\u001b[0m\u001b[1;33m,\u001b[0m \u001b[1;33m*\u001b[0m\u001b[0margs\u001b[0m\u001b[1;33m,\u001b[0m \u001b[1;33m**\u001b[0m\u001b[0mkwargs\u001b[0m\u001b[1;33m)\u001b[0m\u001b[1;33m:\u001b[0m\u001b[1;33m\u001b[0m\u001b[0m\n\u001b[1;32m     62\u001b[0m         \u001b[0mbefore\u001b[0m\u001b[1;33m(\u001b[0m\u001b[0martist\u001b[0m\u001b[1;33m,\u001b[0m \u001b[0mrenderer\u001b[0m\u001b[1;33m)\u001b[0m\u001b[1;33m\u001b[0m\u001b[0m\n\u001b[0;32m---> 63\u001b[0;31m         \u001b[0mdraw\u001b[0m\u001b[1;33m(\u001b[0m\u001b[0martist\u001b[0m\u001b[1;33m,\u001b[0m \u001b[0mrenderer\u001b[0m\u001b[1;33m,\u001b[0m \u001b[1;33m*\u001b[0m\u001b[0margs\u001b[0m\u001b[1;33m,\u001b[0m \u001b[1;33m**\u001b[0m\u001b[0mkwargs\u001b[0m\u001b[1;33m)\u001b[0m\u001b[1;33m\u001b[0m\u001b[0m\n\u001b[0m\u001b[1;32m     64\u001b[0m         \u001b[0mafter\u001b[0m\u001b[1;33m(\u001b[0m\u001b[0martist\u001b[0m\u001b[1;33m,\u001b[0m \u001b[0mrenderer\u001b[0m\u001b[1;33m)\u001b[0m\u001b[1;33m\u001b[0m\u001b[0m\n\u001b[1;32m     65\u001b[0m \u001b[1;33m\u001b[0m\u001b[0m\n",
      "\u001b[0;32mC:\\Users\\hofman\\AppData\\Local\\Continuum\\Anaconda2\\lib\\site-packages\\matplotlib\\figure.pyc\u001b[0m in \u001b[0;36mdraw\u001b[0;34m(self, renderer)\u001b[0m\n\u001b[1;32m   1141\u001b[0m \u001b[1;33m\u001b[0m\u001b[0m\n\u001b[1;32m   1142\u001b[0m             mimage._draw_list_compositing_images(\n\u001b[0;32m-> 1143\u001b[0;31m                 renderer, self, dsu, self.suppressComposite)\n\u001b[0m\u001b[1;32m   1144\u001b[0m \u001b[1;33m\u001b[0m\u001b[0m\n\u001b[1;32m   1145\u001b[0m             \u001b[0mrenderer\u001b[0m\u001b[1;33m.\u001b[0m\u001b[0mclose_group\u001b[0m\u001b[1;33m(\u001b[0m\u001b[1;34m'figure'\u001b[0m\u001b[1;33m)\u001b[0m\u001b[1;33m\u001b[0m\u001b[0m\n",
      "\u001b[0;32mC:\\Users\\hofman\\AppData\\Local\\Continuum\\Anaconda2\\lib\\site-packages\\matplotlib\\image.pyc\u001b[0m in \u001b[0;36m_draw_list_compositing_images\u001b[0;34m(renderer, parent, dsu, suppress_composite)\u001b[0m\n\u001b[1;32m    137\u001b[0m     \u001b[1;32mif\u001b[0m \u001b[0mnot_composite\u001b[0m \u001b[1;32mor\u001b[0m \u001b[1;32mnot\u001b[0m \u001b[0mhas_images\u001b[0m\u001b[1;33m:\u001b[0m\u001b[1;33m\u001b[0m\u001b[0m\n\u001b[1;32m    138\u001b[0m         \u001b[1;32mfor\u001b[0m \u001b[0mzorder\u001b[0m\u001b[1;33m,\u001b[0m \u001b[0ma\u001b[0m \u001b[1;32min\u001b[0m \u001b[0mdsu\u001b[0m\u001b[1;33m:\u001b[0m\u001b[1;33m\u001b[0m\u001b[0m\n\u001b[0;32m--> 139\u001b[0;31m             \u001b[0ma\u001b[0m\u001b[1;33m.\u001b[0m\u001b[0mdraw\u001b[0m\u001b[1;33m(\u001b[0m\u001b[0mrenderer\u001b[0m\u001b[1;33m)\u001b[0m\u001b[1;33m\u001b[0m\u001b[0m\n\u001b[0m\u001b[1;32m    140\u001b[0m     \u001b[1;32melse\u001b[0m\u001b[1;33m:\u001b[0m\u001b[1;33m\u001b[0m\u001b[0m\n\u001b[1;32m    141\u001b[0m         \u001b[1;31m# Composite any adjacent images together\u001b[0m\u001b[1;33m\u001b[0m\u001b[1;33m\u001b[0m\u001b[0m\n",
      "\u001b[0;32mC:\\Users\\hofman\\AppData\\Local\\Continuum\\Anaconda2\\lib\\site-packages\\matplotlib\\artist.pyc\u001b[0m in \u001b[0;36mdraw_wrapper\u001b[0;34m(artist, renderer, *args, **kwargs)\u001b[0m\n\u001b[1;32m     61\u001b[0m     \u001b[1;32mdef\u001b[0m \u001b[0mdraw_wrapper\u001b[0m\u001b[1;33m(\u001b[0m\u001b[0martist\u001b[0m\u001b[1;33m,\u001b[0m \u001b[0mrenderer\u001b[0m\u001b[1;33m,\u001b[0m \u001b[1;33m*\u001b[0m\u001b[0margs\u001b[0m\u001b[1;33m,\u001b[0m \u001b[1;33m**\u001b[0m\u001b[0mkwargs\u001b[0m\u001b[1;33m)\u001b[0m\u001b[1;33m:\u001b[0m\u001b[1;33m\u001b[0m\u001b[0m\n\u001b[1;32m     62\u001b[0m         \u001b[0mbefore\u001b[0m\u001b[1;33m(\u001b[0m\u001b[0martist\u001b[0m\u001b[1;33m,\u001b[0m \u001b[0mrenderer\u001b[0m\u001b[1;33m)\u001b[0m\u001b[1;33m\u001b[0m\u001b[0m\n\u001b[0;32m---> 63\u001b[0;31m         \u001b[0mdraw\u001b[0m\u001b[1;33m(\u001b[0m\u001b[0martist\u001b[0m\u001b[1;33m,\u001b[0m \u001b[0mrenderer\u001b[0m\u001b[1;33m,\u001b[0m \u001b[1;33m*\u001b[0m\u001b[0margs\u001b[0m\u001b[1;33m,\u001b[0m \u001b[1;33m**\u001b[0m\u001b[0mkwargs\u001b[0m\u001b[1;33m)\u001b[0m\u001b[1;33m\u001b[0m\u001b[0m\n\u001b[0m\u001b[1;32m     64\u001b[0m         \u001b[0mafter\u001b[0m\u001b[1;33m(\u001b[0m\u001b[0martist\u001b[0m\u001b[1;33m,\u001b[0m \u001b[0mrenderer\u001b[0m\u001b[1;33m)\u001b[0m\u001b[1;33m\u001b[0m\u001b[0m\n\u001b[1;32m     65\u001b[0m \u001b[1;33m\u001b[0m\u001b[0m\n",
      "\u001b[0;32mC:\\Users\\hofman\\AppData\\Local\\Continuum\\Anaconda2\\lib\\site-packages\\matplotlib\\axes\\_base.pyc\u001b[0m in \u001b[0;36mdraw\u001b[0;34m(self, renderer, inframe)\u001b[0m\n\u001b[1;32m   2407\u001b[0m             \u001b[0mrenderer\u001b[0m\u001b[1;33m.\u001b[0m\u001b[0mstop_rasterizing\u001b[0m\u001b[1;33m(\u001b[0m\u001b[1;33m)\u001b[0m\u001b[1;33m\u001b[0m\u001b[0m\n\u001b[1;32m   2408\u001b[0m \u001b[1;33m\u001b[0m\u001b[0m\n\u001b[0;32m-> 2409\u001b[0;31m         \u001b[0mmimage\u001b[0m\u001b[1;33m.\u001b[0m\u001b[0m_draw_list_compositing_images\u001b[0m\u001b[1;33m(\u001b[0m\u001b[0mrenderer\u001b[0m\u001b[1;33m,\u001b[0m \u001b[0mself\u001b[0m\u001b[1;33m,\u001b[0m \u001b[0mdsu\u001b[0m\u001b[1;33m)\u001b[0m\u001b[1;33m\u001b[0m\u001b[0m\n\u001b[0m\u001b[1;32m   2410\u001b[0m \u001b[1;33m\u001b[0m\u001b[0m\n\u001b[1;32m   2411\u001b[0m         \u001b[0mrenderer\u001b[0m\u001b[1;33m.\u001b[0m\u001b[0mclose_group\u001b[0m\u001b[1;33m(\u001b[0m\u001b[1;34m'axes'\u001b[0m\u001b[1;33m)\u001b[0m\u001b[1;33m\u001b[0m\u001b[0m\n",
      "\u001b[0;32mC:\\Users\\hofman\\AppData\\Local\\Continuum\\Anaconda2\\lib\\site-packages\\matplotlib\\image.pyc\u001b[0m in \u001b[0;36m_draw_list_compositing_images\u001b[0;34m(renderer, parent, dsu, suppress_composite)\u001b[0m\n\u001b[1;32m    137\u001b[0m     \u001b[1;32mif\u001b[0m \u001b[0mnot_composite\u001b[0m \u001b[1;32mor\u001b[0m \u001b[1;32mnot\u001b[0m \u001b[0mhas_images\u001b[0m\u001b[1;33m:\u001b[0m\u001b[1;33m\u001b[0m\u001b[0m\n\u001b[1;32m    138\u001b[0m         \u001b[1;32mfor\u001b[0m \u001b[0mzorder\u001b[0m\u001b[1;33m,\u001b[0m \u001b[0ma\u001b[0m \u001b[1;32min\u001b[0m \u001b[0mdsu\u001b[0m\u001b[1;33m:\u001b[0m\u001b[1;33m\u001b[0m\u001b[0m\n\u001b[0;32m--> 139\u001b[0;31m             \u001b[0ma\u001b[0m\u001b[1;33m.\u001b[0m\u001b[0mdraw\u001b[0m\u001b[1;33m(\u001b[0m\u001b[0mrenderer\u001b[0m\u001b[1;33m)\u001b[0m\u001b[1;33m\u001b[0m\u001b[0m\n\u001b[0m\u001b[1;32m    140\u001b[0m     \u001b[1;32melse\u001b[0m\u001b[1;33m:\u001b[0m\u001b[1;33m\u001b[0m\u001b[0m\n\u001b[1;32m    141\u001b[0m         \u001b[1;31m# Composite any adjacent images together\u001b[0m\u001b[1;33m\u001b[0m\u001b[1;33m\u001b[0m\u001b[0m\n",
      "\u001b[0;32mC:\\Users\\hofman\\AppData\\Local\\Continuum\\Anaconda2\\lib\\site-packages\\matplotlib\\artist.pyc\u001b[0m in \u001b[0;36mdraw_wrapper\u001b[0;34m(artist, renderer, *args, **kwargs)\u001b[0m\n\u001b[1;32m     61\u001b[0m     \u001b[1;32mdef\u001b[0m \u001b[0mdraw_wrapper\u001b[0m\u001b[1;33m(\u001b[0m\u001b[0martist\u001b[0m\u001b[1;33m,\u001b[0m \u001b[0mrenderer\u001b[0m\u001b[1;33m,\u001b[0m \u001b[1;33m*\u001b[0m\u001b[0margs\u001b[0m\u001b[1;33m,\u001b[0m \u001b[1;33m**\u001b[0m\u001b[0mkwargs\u001b[0m\u001b[1;33m)\u001b[0m\u001b[1;33m:\u001b[0m\u001b[1;33m\u001b[0m\u001b[0m\n\u001b[1;32m     62\u001b[0m         \u001b[0mbefore\u001b[0m\u001b[1;33m(\u001b[0m\u001b[0martist\u001b[0m\u001b[1;33m,\u001b[0m \u001b[0mrenderer\u001b[0m\u001b[1;33m)\u001b[0m\u001b[1;33m\u001b[0m\u001b[0m\n\u001b[0;32m---> 63\u001b[0;31m         \u001b[0mdraw\u001b[0m\u001b[1;33m(\u001b[0m\u001b[0martist\u001b[0m\u001b[1;33m,\u001b[0m \u001b[0mrenderer\u001b[0m\u001b[1;33m,\u001b[0m \u001b[1;33m*\u001b[0m\u001b[0margs\u001b[0m\u001b[1;33m,\u001b[0m \u001b[1;33m**\u001b[0m\u001b[0mkwargs\u001b[0m\u001b[1;33m)\u001b[0m\u001b[1;33m\u001b[0m\u001b[0m\n\u001b[0m\u001b[1;32m     64\u001b[0m         \u001b[0mafter\u001b[0m\u001b[1;33m(\u001b[0m\u001b[0martist\u001b[0m\u001b[1;33m,\u001b[0m \u001b[0mrenderer\u001b[0m\u001b[1;33m)\u001b[0m\u001b[1;33m\u001b[0m\u001b[0m\n\u001b[1;32m     65\u001b[0m \u001b[1;33m\u001b[0m\u001b[0m\n",
      "\u001b[0;32mC:\\Users\\hofman\\AppData\\Local\\Continuum\\Anaconda2\\lib\\site-packages\\matplotlib\\axis.pyc\u001b[0m in \u001b[0;36mdraw\u001b[0;34m(self, renderer, *args, **kwargs)\u001b[0m\n\u001b[1;32m   1139\u001b[0m \u001b[1;33m\u001b[0m\u001b[0m\n\u001b[1;32m   1140\u001b[0m         \u001b[1;32mfor\u001b[0m \u001b[0mtick\u001b[0m \u001b[1;32min\u001b[0m \u001b[0mticks_to_draw\u001b[0m\u001b[1;33m:\u001b[0m\u001b[1;33m\u001b[0m\u001b[0m\n\u001b[0;32m-> 1141\u001b[0;31m             \u001b[0mtick\u001b[0m\u001b[1;33m.\u001b[0m\u001b[0mdraw\u001b[0m\u001b[1;33m(\u001b[0m\u001b[0mrenderer\u001b[0m\u001b[1;33m)\u001b[0m\u001b[1;33m\u001b[0m\u001b[0m\n\u001b[0m\u001b[1;32m   1142\u001b[0m \u001b[1;33m\u001b[0m\u001b[0m\n\u001b[1;32m   1143\u001b[0m         \u001b[1;31m# scale up the axis label box to also find the neighbors, not\u001b[0m\u001b[1;33m\u001b[0m\u001b[1;33m\u001b[0m\u001b[0m\n",
      "\u001b[0;32mC:\\Users\\hofman\\AppData\\Local\\Continuum\\Anaconda2\\lib\\site-packages\\matplotlib\\artist.pyc\u001b[0m in \u001b[0;36mdraw_wrapper\u001b[0;34m(artist, renderer, *args, **kwargs)\u001b[0m\n\u001b[1;32m     61\u001b[0m     \u001b[1;32mdef\u001b[0m \u001b[0mdraw_wrapper\u001b[0m\u001b[1;33m(\u001b[0m\u001b[0martist\u001b[0m\u001b[1;33m,\u001b[0m \u001b[0mrenderer\u001b[0m\u001b[1;33m,\u001b[0m \u001b[1;33m*\u001b[0m\u001b[0margs\u001b[0m\u001b[1;33m,\u001b[0m \u001b[1;33m**\u001b[0m\u001b[0mkwargs\u001b[0m\u001b[1;33m)\u001b[0m\u001b[1;33m:\u001b[0m\u001b[1;33m\u001b[0m\u001b[0m\n\u001b[1;32m     62\u001b[0m         \u001b[0mbefore\u001b[0m\u001b[1;33m(\u001b[0m\u001b[0martist\u001b[0m\u001b[1;33m,\u001b[0m \u001b[0mrenderer\u001b[0m\u001b[1;33m)\u001b[0m\u001b[1;33m\u001b[0m\u001b[0m\n\u001b[0;32m---> 63\u001b[0;31m         \u001b[0mdraw\u001b[0m\u001b[1;33m(\u001b[0m\u001b[0martist\u001b[0m\u001b[1;33m,\u001b[0m \u001b[0mrenderer\u001b[0m\u001b[1;33m,\u001b[0m \u001b[1;33m*\u001b[0m\u001b[0margs\u001b[0m\u001b[1;33m,\u001b[0m \u001b[1;33m**\u001b[0m\u001b[0mkwargs\u001b[0m\u001b[1;33m)\u001b[0m\u001b[1;33m\u001b[0m\u001b[0m\n\u001b[0m\u001b[1;32m     64\u001b[0m         \u001b[0mafter\u001b[0m\u001b[1;33m(\u001b[0m\u001b[0martist\u001b[0m\u001b[1;33m,\u001b[0m \u001b[0mrenderer\u001b[0m\u001b[1;33m)\u001b[0m\u001b[1;33m\u001b[0m\u001b[0m\n\u001b[1;32m     65\u001b[0m \u001b[1;33m\u001b[0m\u001b[0m\n",
      "\u001b[0;32mC:\\Users\\hofman\\AppData\\Local\\Continuum\\Anaconda2\\lib\\site-packages\\matplotlib\\axis.pyc\u001b[0m in \u001b[0;36mdraw\u001b[0;34m(self, renderer)\u001b[0m\n\u001b[1;32m    262\u001b[0m \u001b[1;33m\u001b[0m\u001b[0m\n\u001b[1;32m    263\u001b[0m         \u001b[1;32mif\u001b[0m \u001b[0mself\u001b[0m\u001b[1;33m.\u001b[0m\u001b[0mlabel1On\u001b[0m\u001b[1;33m:\u001b[0m\u001b[1;33m\u001b[0m\u001b[0m\n\u001b[0;32m--> 264\u001b[0;31m             \u001b[0mself\u001b[0m\u001b[1;33m.\u001b[0m\u001b[0mlabel1\u001b[0m\u001b[1;33m.\u001b[0m\u001b[0mdraw\u001b[0m\u001b[1;33m(\u001b[0m\u001b[0mrenderer\u001b[0m\u001b[1;33m)\u001b[0m\u001b[1;33m\u001b[0m\u001b[0m\n\u001b[0m\u001b[1;32m    265\u001b[0m         \u001b[1;32mif\u001b[0m \u001b[0mself\u001b[0m\u001b[1;33m.\u001b[0m\u001b[0mlabel2On\u001b[0m\u001b[1;33m:\u001b[0m\u001b[1;33m\u001b[0m\u001b[0m\n\u001b[1;32m    266\u001b[0m             \u001b[0mself\u001b[0m\u001b[1;33m.\u001b[0m\u001b[0mlabel2\u001b[0m\u001b[1;33m.\u001b[0m\u001b[0mdraw\u001b[0m\u001b[1;33m(\u001b[0m\u001b[0mrenderer\u001b[0m\u001b[1;33m)\u001b[0m\u001b[1;33m\u001b[0m\u001b[0m\n",
      "\u001b[0;32mC:\\Users\\hofman\\AppData\\Local\\Continuum\\Anaconda2\\lib\\site-packages\\matplotlib\\artist.pyc\u001b[0m in \u001b[0;36mdraw_wrapper\u001b[0;34m(artist, renderer, *args, **kwargs)\u001b[0m\n\u001b[1;32m     61\u001b[0m     \u001b[1;32mdef\u001b[0m \u001b[0mdraw_wrapper\u001b[0m\u001b[1;33m(\u001b[0m\u001b[0martist\u001b[0m\u001b[1;33m,\u001b[0m \u001b[0mrenderer\u001b[0m\u001b[1;33m,\u001b[0m \u001b[1;33m*\u001b[0m\u001b[0margs\u001b[0m\u001b[1;33m,\u001b[0m \u001b[1;33m**\u001b[0m\u001b[0mkwargs\u001b[0m\u001b[1;33m)\u001b[0m\u001b[1;33m:\u001b[0m\u001b[1;33m\u001b[0m\u001b[0m\n\u001b[1;32m     62\u001b[0m         \u001b[0mbefore\u001b[0m\u001b[1;33m(\u001b[0m\u001b[0martist\u001b[0m\u001b[1;33m,\u001b[0m \u001b[0mrenderer\u001b[0m\u001b[1;33m)\u001b[0m\u001b[1;33m\u001b[0m\u001b[0m\n\u001b[0;32m---> 63\u001b[0;31m         \u001b[0mdraw\u001b[0m\u001b[1;33m(\u001b[0m\u001b[0martist\u001b[0m\u001b[1;33m,\u001b[0m \u001b[0mrenderer\u001b[0m\u001b[1;33m,\u001b[0m \u001b[1;33m*\u001b[0m\u001b[0margs\u001b[0m\u001b[1;33m,\u001b[0m \u001b[1;33m**\u001b[0m\u001b[0mkwargs\u001b[0m\u001b[1;33m)\u001b[0m\u001b[1;33m\u001b[0m\u001b[0m\n\u001b[0m\u001b[1;32m     64\u001b[0m         \u001b[0mafter\u001b[0m\u001b[1;33m(\u001b[0m\u001b[0martist\u001b[0m\u001b[1;33m,\u001b[0m \u001b[0mrenderer\u001b[0m\u001b[1;33m)\u001b[0m\u001b[1;33m\u001b[0m\u001b[0m\n\u001b[1;32m     65\u001b[0m \u001b[1;33m\u001b[0m\u001b[0m\n",
      "\u001b[0;32mC:\\Users\\hofman\\AppData\\Local\\Continuum\\Anaconda2\\lib\\site-packages\\matplotlib\\text.pyc\u001b[0m in \u001b[0;36mdraw\u001b[0;34m(self, renderer)\u001b[0m\n\u001b[1;32m    800\u001b[0m                     textrenderer.draw_text(gc, x, y, clean_line,\n\u001b[1;32m    801\u001b[0m                                            \u001b[0mtextobj\u001b[0m\u001b[1;33m.\u001b[0m\u001b[0m_fontproperties\u001b[0m\u001b[1;33m,\u001b[0m \u001b[0mangle\u001b[0m\u001b[1;33m,\u001b[0m\u001b[1;33m\u001b[0m\u001b[0m\n\u001b[0;32m--> 802\u001b[0;31m                                            ismath=ismath, mtext=mtext)\n\u001b[0m\u001b[1;32m    803\u001b[0m \u001b[1;33m\u001b[0m\u001b[0m\n\u001b[1;32m    804\u001b[0m         \u001b[0mgc\u001b[0m\u001b[1;33m.\u001b[0m\u001b[0mrestore\u001b[0m\u001b[1;33m(\u001b[0m\u001b[1;33m)\u001b[0m\u001b[1;33m\u001b[0m\u001b[0m\n",
      "\u001b[0;31mKeyboardInterrupt\u001b[0m: "
     ]
    },
    {
     "data": {
      "image/png": "[encoded data removed]",
      "text/plain": [
       "<matplotlib.figure.Figure at 0x10b548d0>"
      ]
     },
     "metadata": {},
     "output_type": "display_data"
    }
   ],
   "source": [
    "def read_1h_file(filepath):\n",
    "    with open(filepath, 'r') as f:\n",
    "        s = f.readlines()\n",
    "        index = 0\n",
    "        counts = numpy.zeros(2048)\n",
    "        for line in s[4:]:\n",
    "            count = line.strip().split()[1]\n",
    "            counts[index] = count\n",
    "            index += 1\n",
    "    return counts, s[:4]\n",
    "\n",
    "def plot_calibrated_file(filedir, filename, outdir):\n",
    "    counts, header = read_1h_file(os.path.join(filedir, filename))\n",
    "    xfilt = savgol_filter(counts, 5, 2)\n",
    "    \n",
    "    #do spectra shift\n",
    "    peaks = find_peaks(xfilt)\n",
    "    x = peaks\n",
    "    y = corresponding_energies\n",
    "    z = numpy.polyfit( x, y, 2)\n",
    "    scalepoly = numpy.poly1d(z)\n",
    "    new_E_scale = scalepoly(range(2048))\n",
    "    plot_calibration(counts, new_E_scale, 500, filename, os.path.join(outdir, filename)+'.png')\n",
    "    \n",
    "hourly_files_dir = os.path.join('hourly')\n",
    "files = os.listdir(hourly_files_dir)\n",
    "\n",
    "for i, fn in enumerate(files[1200:]):\n",
    "    if not (1200+i)%100: print(i+1200)\n",
    "    plot_calibrated_file(hourly_files_dir, fn, 'hourly_calib_plots') "
   ]
  },
  {
   "cell_type": "markdown",
   "metadata": {},
   "source": [
    "## Peaks"
   ]
  },
  {
   "cell_type": "code",
   "execution_count": 24,
   "metadata": {
    "collapsed": true
   },
   "outputs": [],
   "source": [
    "counts = counts_all[196,:]"
   ]
  },
  {
   "cell_type": "code",
   "execution_count": 25,
   "metadata": {
    "collapsed": false
   },
   "outputs": [
    {
     "data": {
      "text/plain": [
       "array([ 0.,  0.,  0., ...,  0.,  0.,  0.])"
      ]
     },
     "execution_count": 25,
     "metadata": {},
     "output_type": "execute_result"
    }
   ],
   "source": [
    "counts"
   ]
  },
  {
   "cell_type": "code",
   "execution_count": 26,
   "metadata": {
    "collapsed": false
   },
   "outputs": [
    {
     "name": "stdout",
     "output_type": "stream",
     "text": [
      "(2048L,)\n"
     ]
    },
    {
     "ename": "NameError",
     "evalue": "name 'energy' is not defined",
     "output_type": "error",
     "traceback": [
      "\u001b[0;31m---------------------------------------------------------------------------\u001b[0m",
      "\u001b[0;31mNameError\u001b[0m                                 Traceback (most recent call last)",
      "\u001b[0;32m<ipython-input-26-eb7f08fd4b3f>\u001b[0m in \u001b[0;36m<module>\u001b[0;34m()\u001b[0m\n\u001b[1;32m      1\u001b[0m \u001b[1;32mprint\u001b[0m \u001b[0mcounts\u001b[0m\u001b[1;33m.\u001b[0m\u001b[0mshape\u001b[0m\u001b[1;33m\u001b[0m\u001b[0m\n\u001b[0;32m----> 2\u001b[0;31m \u001b[1;32mprint\u001b[0m \u001b[0menergy\u001b[0m\u001b[1;33m.\u001b[0m\u001b[0mshape\u001b[0m\u001b[1;33m\u001b[0m\u001b[0m\n\u001b[0m\u001b[1;32m      3\u001b[0m \u001b[1;32mprint\u001b[0m \u001b[0mnew_E_scale\u001b[0m\u001b[1;33m.\u001b[0m\u001b[0mshape\u001b[0m\u001b[1;33m\u001b[0m\u001b[0m\n",
      "\u001b[0;31mNameError\u001b[0m: name 'energy' is not defined"
     ]
    }
   ],
   "source": [
    "print counts.shape\n",
    "print energy.shape\n",
    "print new_E_scale.shape"
   ]
  },
  {
   "cell_type": "code",
   "execution_count": 27,
   "metadata": {
    "collapsed": true
   },
   "outputs": [],
   "source": [
    "b = corresponding_energies[0]"
   ]
  },
  {
   "cell_type": "code",
   "execution_count": 28,
   "metadata": {
    "collapsed": true
   },
   "outputs": [],
   "source": [
    "def fwhm3(valuelist, peakpos=-1):\n",
    "    #from https://www.mantidproject.org/Python_Peak_Methods\n",
    "    \"\"\"calculates the full width at half maximum (fwhm) of some curve.\n",
    "\n",
    "    the function will return the fwhm with sub-pixel interpolation. It will start at the maximum position and 'walk' left and right until it approaches the half values.\n",
    "\n",
    "    INPUT: \n",
    "    - valuelist: e.g. the list containing the temporal shape of a pulse \n",
    "\n",
    "    OPTIONAL INPUT: \n",
    "    -peakpos: position of the peak to examine (list index)\n",
    "    the global maximum will be used if omitted.\n",
    "\n",
    "    OUTPUT:\n",
    "    -fwhm (value)\n",
    "    \"\"\"\n",
    "    if peakpos== -1: #no peakpos given -> take maximum\n",
    "        peak = numpy.max(valuelist)\n",
    "        peakpos = numpy.min( numpy.nonzero( valuelist==peak  )  )\n",
    "\n",
    "    peakvalue = valuelist[peakpos]\n",
    "    phalf = peakvalue / 2.0\n",
    "\n",
    "    # go left and right, starting from peakpos\n",
    "    ind1 = peakpos\n",
    "    ind2 = peakpos   \n",
    "\n",
    "    while ind1>2 and valuelist[ind1]>phalf:\n",
    "        ind1=ind1-1\n",
    "    while ind2<len(valuelist)-1 and valuelist[ind2]>phalf:\n",
    "        ind2=ind2+1  \n",
    "    #ind1 and 2 are now just below phalf\n",
    "    grad1 = valuelist[ind1+1]-valuelist[ind1]\n",
    "    grad2 = valuelist[ind2]-valuelist[ind2-1]\n",
    "    #calculate the linear interpolations\n",
    "    p1interp= ind1 + (phalf -valuelist[ind1])/grad1\n",
    "    p2interp= ind2 + (phalf -valuelist[ind2])/grad2\n",
    "    #calculate the width\n",
    "    width = p2interp-p1interp\n",
    "    return width"
   ]
  },
  {
   "cell_type": "code",
   "execution_count": 29,
   "metadata": {
    "collapsed": true
   },
   "outputs": [],
   "source": [
    "from lmfit.models import GaussianModel"
   ]
  },
  {
   "cell_type": "code",
   "execution_count": 30,
   "metadata": {
    "collapsed": true
   },
   "outputs": [],
   "source": [
    "import numpy\n",
    "def gauss(x, mu, sigma):\n",
    "    return numpy.exp(-(x-mu)**2/2./sigma**2)\n"
   ]
  },
  {
   "cell_type": "code",
   "execution_count": 31,
   "metadata": {
    "collapsed": true
   },
   "outputs": [],
   "source": [
    "\n",
    "\n",
    "def get_peak_81_poc(energy, counts, scalepoly):\n",
    "\n",
    "    #energy range we want\n",
    "    e0 = corresponding_energies[0]\n",
    "    e1 = 2*e0\n",
    "    \n",
    "    #bins in new energy scale\n",
    "    b0 = numpy.digitize(e0, energy)\n",
    "    b1 = numpy.digitize(e1, energy)\n",
    "    \n",
    "    #bin of minima\n",
    "    minbin = b0+numpy.argmin(counts[b0:b1])\n",
    "    #bin of minima + 10keV\n",
    "    minbinp10 = numpy.digitize(energy[minbin]+20, energy)\n",
    "    \n",
    "    bin90 = numpy.digitize(90, energy)\n",
    "    bin110 = numpy.digitize(110, energy)\n",
    "    \n",
    "    #print minbin, minbinp10, bin90, bin110\n",
    "    #print energy[minbin:minbinp10],  energy[bin90:bin110]\n",
    "    \n",
    "    #do polyfit\n",
    "    x = numpy.hstack((energy[minbin:minbinp10], energy[bin90:bin110]))\n",
    "    #print x\n",
    "    y = numpy.hstack((counts[minbin:minbinp10], counts[bin90:bin110]))\n",
    "    \n",
    "    \n",
    "    y_savgol =  numpy.hstack((savgol_filter(counts[minbin:minbinp10], 5, 1), savgol_filter(counts[bin90:bin110], 5, 1)))\n",
    "    #print y\n",
    "    z = numpy.polyfit(x, y, 3)\n",
    "    \n",
    "    #get it as a polynom\n",
    "    trans_p1 = numpy.poly1d(z)\n",
    "    \n",
    "    #estimated background\n",
    "    BKG = trans_p1(energy[minbin:bin110])\n",
    "    #tru counts\n",
    "    TC = counts[minbin:bin110]\n",
    "    \n",
    "    #subtract background\n",
    "    peak_diff =TC-BKG\n",
    "    \n",
    "    peakpos = numpy.argmax(peak_diff)\n",
    "    peakmax = numpy.max(peak_diff)\n",
    "\n",
    "    ##fit gaussian\n",
    "    x_g = energy[minbin+peakpos-3:minbin+peakpos+3+1:]\n",
    "    y_g = counts[minbin+peakpos-3:minbin+peakpos+3+1:]\n",
    "\n",
    "    mod = GaussianModel()\n",
    "    pars = mod.guess(y_g, x=x_g)\n",
    "    print pars\n",
    "    fwhm = pars['fwhm']._val\n",
    "    sigma = pars['sigma']._val\n",
    "    amplitude = pars['amplitude']._val\n",
    "    center = pars['center']._val\n",
    "    print center, sigma, fwhm, peakmax\n",
    "    \n",
    "    #print(out.fit_report(min_correl=0.25))\n",
    "    \n",
    "    #get the FWHM\n",
    "    #FWHM = fwhm3(peak_diff)\n",
    "    #tFWHM = scalepoly(FWHM)\n",
    "\n",
    "    plot_peak(energy[:100], counts[:100], energy[minbin:bin110], peakpos, TC, x, BKG, y_savgol, peak_diff, fwhm)\n",
    "    return peakmax, pars, peakpos #tFWHM\n",
    "\n",
    "def plot_peak(energy_full, counts_full, energy, peakpos, counts, x, counts_fit, counts_savgol, peak_diff, tFWHM, \n",
    "              filename=None, mu=None, sigma=None, norm=1.):    \n",
    "    \n",
    "    fig = plt.figure(figsize=(12,10))\n",
    "    ax = fig.add_subplot(211)\n",
    "    ax.plot(energy_full, counts_full, label='counts')\n",
    "    ax.plot(x,counts_savgol, label='savgol counts')\n",
    "    ax.plot(energy, counts_fit, label='fit')\n",
    "    plt.legend()\n",
    "    ax = fig.add_subplot(212)\n",
    "    ax.plot(energy, peak_diff)\n",
    "    ax.axvline(energy[peakpos], color='r', label='peak')\n",
    "    print energy[peakpos]-tFWHM/2, energy[peakpos]+tFWHM/2\n",
    "    ax.axvspan(energy[peakpos]-tFWHM/2, energy[peakpos]+tFWHM/2, facecolor='g', alpha=0.5, label='FWHM')\n",
    "    plt.legend()\n",
    "    \n",
    "    if not mu is None and not sigma is None:  # mu = peakpos\n",
    "        ax.plot(energy, gauss(energy, mu, sigma, norm))\n",
    "        \n",
    "        \n",
    "    \n",
    "    if filename:\n",
    "        plt.savefig('%s.pdf' % filename)\n",
    "        \n",
    "\n",
    "import numpy\n",
    "def gauss(x, mu, sigma, norm=1):\n",
    "    #print x\n",
    "    #print mu, sigma\n",
    "    ret = numpy.exp(-(x-mu)**2/2./sigma**2)\n",
    "    #print(ret)\n",
    "    return ret * norm"
   ]
  },
  {
   "cell_type": "code",
   "execution_count": 32,
   "metadata": {
    "collapsed": false
   },
   "outputs": [
    {
     "name": "stdout",
     "output_type": "stream",
     "text": [
      "Parameters([('sigma', <Parameter 'sigma', 3.3834513285544219, bounds=[0.0:inf]>), ('center', <Parameter 'center', 82.181806640872253, bounds=[-inf:inf]>), ('amplitude', <Parameter 'amplitude', 10170.654693634593, bounds=[-inf:inf]>), ('fwhm', <Parameter 'fwhm', 7.9674188575065239, bounds=[-inf:inf], expr='2.3548200*sigma'>), ('height', <Parameter 'height', 1199.2205538000003, bounds=[-inf:inf], expr='0.3989423*amplitude/max(1.e-15, sigma)'>)])\n",
      "82.1818066409 3.38345132855 7.96741885751 1007.91953148\n",
      "76.5063787194 84.4737975769\n"
     ]
    },
    {
     "data": {
      "image/png": "[encoded data removed]",
      "text/plain": [
       "<matplotlib.figure.Figure at 0x1478a0f0>"
      ]
     },
     "metadata": {},
     "output_type": "display_data"
    }
   ],
   "source": [
    "a, out, pos = get_peak_81_poc(new_E_scale, counts, trans_p)"
   ]
  },
  {
   "cell_type": "code",
   "execution_count": 32,
   "metadata": {
    "collapsed": false,
    "scrolled": true
   },
   "outputs": [
    {
     "data": {
      "text/plain": [
       "{'_OrderedDict__map': {'amplitude': [[[[[[[...], [...], 'fwhm'],\n",
       "       [...],\n",
       "       'height'],\n",
       "      [...],\n",
       "      None],\n",
       "     [...],\n",
       "     'sigma'],\n",
       "    [...],\n",
       "    'center'],\n",
       "   [[...],\n",
       "    [[...],\n",
       "     [[...], [[...], [[...], [...], 'center'], 'sigma'], None],\n",
       "     'height'],\n",
       "    'fwhm'],\n",
       "   'amplitude'],\n",
       "  'center': [[[[[[[...], [...], 'amplitude'], [...], 'fwhm'], [...], 'height'],\n",
       "     [...],\n",
       "     None],\n",
       "    [...],\n",
       "    'sigma'],\n",
       "   [[...],\n",
       "    [[...], [[...], [[...], [[...], [...], 'sigma'], None], 'height'], 'fwhm'],\n",
       "    'amplitude'],\n",
       "   'center'],\n",
       "  'fwhm': [[[[[[[...], [...], 'height'], [...], None], [...], 'sigma'],\n",
       "     [...],\n",
       "     'center'],\n",
       "    [...],\n",
       "    'amplitude'],\n",
       "   [[...],\n",
       "    [[...],\n",
       "     [[...], [[...], [[...], [...], 'amplitude'], 'center'], 'sigma'],\n",
       "     None],\n",
       "    'height'],\n",
       "   'fwhm'],\n",
       "  'height': [[[[[[[...], [...], None], [...], 'sigma'], [...], 'center'],\n",
       "     [...],\n",
       "     'amplitude'],\n",
       "    [...],\n",
       "    'fwhm'],\n",
       "   [[...],\n",
       "    [[...],\n",
       "     [[...], [[...], [[...], [...], 'fwhm'], 'amplitude'], 'center'],\n",
       "     'sigma'],\n",
       "    None],\n",
       "   'height'],\n",
       "  'sigma': [[[[[[[...], [...], 'center'], [...], 'amplitude'], [...], 'fwhm'],\n",
       "     [...],\n",
       "     'height'],\n",
       "    [...],\n",
       "    None],\n",
       "   [[...],\n",
       "    [[...],\n",
       "     [[...], [[...], [[...], [...], None], 'height'], 'fwhm'],\n",
       "     'amplitude'],\n",
       "    'center'],\n",
       "   'sigma']},\n",
       " '_OrderedDict__root': [[[[[[[...], [...], 'sigma'], [...], 'center'],\n",
       "     [...],\n",
       "     'amplitude'],\n",
       "    [...],\n",
       "    'fwhm'],\n",
       "   [...],\n",
       "   'height'],\n",
       "  [[...],\n",
       "   [[...],\n",
       "    [[...], [[...], [[...], [...], 'height'], 'fwhm'], 'amplitude'],\n",
       "    'center'],\n",
       "   'sigma'],\n",
       "  None],\n",
       " '_asteval': <lmfit.asteval.Interpreter instance at 0x0000000010B47588>}"
      ]
     },
     "execution_count": 32,
     "metadata": {},
     "output_type": "execute_result"
    }
   ],
   "source": [
    "out.__dict__"
   ]
  },
  {
   "cell_type": "markdown",
   "metadata": {},
   "source": [
    "## Pipeline - deprecated?"
   ]
  },
  {
   "cell_type": "markdown",
   "metadata": {},
   "source": [
    "https://lmfit.github.io/lmfit-py/builtin_models.html#example-1-fit-peaked-data-to-gaussian-lorentzian-and-voigt-profiles"
   ]
  },
  {
   "cell_type": "code",
   "execution_count": 33,
   "metadata": {
    "collapsed": true,
    "scrolled": true
   },
   "outputs": [],
   "source": [
    "def get_peak_81_poc(energy, counts, scalepoly, filename):\n",
    "    \"finds the peak and calculated its FWHM\"\n",
    "    #energy range we want\n",
    "    e0 = corresponding_energies[0]\n",
    "    e1 = 2*e0\n",
    "    #bins in new energy scale\n",
    "    b0 = numpy.digitize(e0, energy)\n",
    "    b1 = numpy.digitize(e1, energy)\n",
    "    #bin of minima\n",
    "    minbin = b0+numpy.argmin(counts[b0:b1])\n",
    "    #bin of minima + 10keV\n",
    "    minbinp10 = numpy.digitize(energy[minbin]+10, energy)\n",
    "    bin90 = numpy.digitize(90, energy)\n",
    "    bin110 = numpy.digitize(110, energy)\n",
    "    \n",
    "    #do polyfit\n",
    "    x = numpy.hstack((energy[minbin:minbinp10], energy[bin90:bin110]))\n",
    "    \n",
    "    y = numpy.hstack((counts[minbin:minbinp10], counts[bin90:bin110]))\n",
    "    y_savgol =  numpy.hstack((savgol_filter(counts[minbin:minbinp10], 5, 1), savgol_filter(counts[bin90:bin110], 5, 1)))\n",
    "    \n",
    "    z = numpy.polyfit(x, y, 3)\n",
    "    print filename, z\n",
    "    #get it as a polynom\n",
    "    trans_p1 = numpy.poly1d(z)\n",
    "    #estimated background\n",
    "    BKG = trans_p1(energy[minbin:bin110])\n",
    "    #tru counts\n",
    "    TC = counts[minbin:bin110]\n",
    "    #subtract background\n",
    "    peak_diff =TC-BKG\n",
    "    peakpos = numpy.argmax(peak_diff)\n",
    "    peakmax = numpy.max(peak_diff)\n",
    "    #get the FWHM\n",
    "    \n",
    "    ##fit gaussian\n",
    "    x_g = energy[minbin+peakpos-3:minbin+peakpos+3+1:]\n",
    "    y_g = counts[minbin+peakpos-3:minbin+peakpos+3+1:]\n",
    "\n",
    "    mod = GaussianModel()\n",
    "    pars = mod.guess(y_g, x=x_g)\n",
    "    print pars\n",
    "    fwhm = pars['fwhm']._val\n",
    "    sigma = pars['sigma']._val\n",
    "    amplitude = pars['amplitude']._val\n",
    "    center = pars['center']._val\n",
    "    print \"=========\", center, sigma, fwhm, peakmax\n",
    "    \n",
    "    \n",
    "    #peak_diff_pos = numpy.where(peak_diff>0, peak_diff, 0)\n",
    "    #tFWHM = scalepoly(fwhm3(peak_diff_pos))\n",
    "    plot_peak(energy[:100], counts[:100], energy[minbin:bin110], peakpos, TC, x, BKG, y_savgol, peak_diff, fwhm, filename)\n",
    "    return peakmax, fwhm, peakpos\n",
    "\n",
    "\n",
    "def read_1h_file(filepath):\n",
    "    with open(filepath, 'r') as f:\n",
    "        s = f.readlines()\n",
    "        index = 0\n",
    "        counts = numpy.zeros(2048)\n",
    "        for line in s[4:]:\n",
    "            count = line.strip().split()[1]\n",
    "            counts[index] = count\n",
    "            index += 1\n",
    "    return counts, s[:4]\n",
    "    \n",
    "\n",
    "def write_file(header, new_E_scale, counts, outpath):\n",
    "    for e, c in zip(new_E_scale, counts):\n",
    "        header.append('%15.5f %10d\\n' % (e, c))\n",
    "        \n",
    "    with open(outpath, 'w+') as f:\n",
    "        f.writelines(header)\n",
    "        \n",
    "\n",
    "def process_file(filedir, filename, outdir):\n",
    "    counts, header = read_1h_file(os.path.join(filedir, filename))\n",
    "    xfilt = savgol_filter(counts, 5, 2)\n",
    "    \n",
    "    #do spectra shift\n",
    "    peaks = find_peaks(xfilt)\n",
    "    x = peaks\n",
    "    y = corresponding_energies\n",
    "    z = numpy.polyfit( x, y, 2)\n",
    "    scalepoly = numpy.poly1d(z)\n",
    "    new_E_scale = scalepoly(range(2048))\n",
    "    \n",
    "    peakmax, fwhm, peakpos = get_peak_81_poc(new_E_scale, counts, scalepoly, filename)\n",
    "    ##BOXPLOT write_file(header, new_E_scale, counts, os.path.join(outdir, filename))\n",
    "    return peakpos, peakmax\n",
    "   "
   ]
  },
  {
   "cell_type": "code",
   "execution_count": null,
   "metadata": {
    "collapsed": false,
    "scrolled": true
   },
   "outputs": [],
   "source": [
    "hourly_files_dir = os.path.join('hourly')\n",
    "files = os.listdir(hourly_files_dir)\n",
    "\n",
    "peak_81_boxdata = []\n",
    "\n",
    "for fn in files[:10]:\n",
    "    \n",
    "    peakpos, count = process_file(hourly_files_dir, fn, 'hourly_calib')\n",
    "    peak_81_boxdata.append((peakpos, count))"
   ]
  },
  {
   "cell_type": "code",
   "execution_count": null,
   "metadata": {
    "collapsed": true
   },
   "outputs": [],
   "source": []
  },
  {
   "cell_type": "markdown",
   "metadata": {},
   "source": [
    "## Fit example"
   ]
  },
  {
   "cell_type": "code",
   "execution_count": 35,
   "metadata": {
    "collapsed": false
   },
   "outputs": [
    {
     "name": "stdout",
     "output_type": "stream",
     "text": [
      "Parameters([('sigma', <Parameter 'sigma', 3.3834513299999998, bounds=[0.0:inf]>), ('center', <Parameter 'center', 82.181806641999998, bounds=[-inf:inf]>), ('amplitude', <Parameter 'amplitude', 10170.654697979999, bounds=[-inf:inf]>), ('fwhm', <Parameter 'fwhm', 7.9674188609106, bounds=[-inf:inf], expr='2.3548200*sigma'>), ('height', <Parameter 'height', 1199.2205538000001, bounds=[-inf:inf], expr='0.3989423*amplitude/max(1.e-15, sigma)'>)])\n"
     ]
    }
   ],
   "source": [
    "x_g = numpy.array([ 75.41480358,  77.10657945,  78.79834097,  80.49008815,  82.18182098, 83.87353948,  85.56524363])\n",
    "y_g = numpy.array([ 4959.,  5454.,  5747.  ,5939.,  5961.,  5742.,  5575.,])\n",
    "mod = GaussianModel()\n",
    "\n",
    "pars = mod.guess(y_g, x=x_g)\n",
    "\n",
    "print pars"
   ]
  },
  {
   "cell_type": "code",
   "execution_count": 36,
   "metadata": {
    "collapsed": false
   },
   "outputs": [
    {
     "name": "stdout",
     "output_type": "stream",
     "text": [
      "7.96741886091\n"
     ]
    }
   ],
   "source": [
    "a = pars['fwhm']._val\n",
    "print a"
   ]
  },
  {
   "cell_type": "code",
   "execution_count": 37,
   "metadata": {
    "collapsed": false
   },
   "outputs": [
    {
     "data": {
      "text/plain": [
       "7.9674188609106"
      ]
     },
     "execution_count": 37,
     "metadata": {},
     "output_type": "execute_result"
    }
   ],
   "source": [
    "a"
   ]
  },
  {
   "cell_type": "markdown",
   "metadata": {
    "collapsed": true
   },
   "source": [
    "## 364.5 keV Peak"
   ]
  },
  {
   "cell_type": "code",
   "execution_count": 38,
   "metadata": {
    "collapsed": true
   },
   "outputs": [],
   "source": [
    "def get_peak_364_poc(energy, counts, filename=None, plot=False):\n",
    "\n",
    "    #energy range we want\n",
    "    try:\n",
    "        bin325 = numpy.digitize(325, energy)\n",
    "        bin342 = numpy.digitize(342, energy)\n",
    "    \n",
    "        bin387 = numpy.digitize(387, energy)\n",
    "        bin404 = numpy.digitize(404, energy)\n",
    "    except:\n",
    "        print filename\n",
    "        return 0, 0, 0, 0, [0,0,0,0]\n",
    "    else:\n",
    "\n",
    "        #do polyfit\n",
    "        x = numpy.hstack((energy[bin325:bin342], energy[bin387:bin404]))\n",
    "        #print x\n",
    "        y = numpy.hstack((counts[bin325:bin342], counts[bin387:bin404]))\n",
    "\n",
    "\n",
    "        y_savgol =  numpy.hstack((savgol_filter(counts[bin325:bin342], 5, 1), savgol_filter(counts[bin387:bin404], 5, 1)))\n",
    "        z = numpy.polyfit(x, y, 3)\n",
    "\n",
    "        #get it as a polynom\n",
    "        trans_p1 = numpy.poly1d(z)\n",
    "\n",
    "        #estimated background\n",
    "        BKG = trans_p1(energy[bin325:bin404])\n",
    "        #tru counts\n",
    "        TC = counts[bin325:bin404]\n",
    "\n",
    "        #subtract background\n",
    "        peak_diff =TC-BKG\n",
    "\n",
    "        peakpos = numpy.argmax(peak_diff)\n",
    "        peakmax = numpy.max(peak_diff)\n",
    "\n",
    "        ##fit gaussian\n",
    "        peak_delta = 8\n",
    "        x_g = energy[bin325+peakpos-peak_delta:bin325+peakpos+peak_delta+1:]\n",
    "        y_g = counts[bin325+peakpos-peak_delta:bin325+peakpos+peak_delta+1:]\n",
    "        y_g = numpy.where(y_g > 0., y_g, 0.)\n",
    "\n",
    "        mod = GaussianModel()\n",
    "        pars = mod.guess(y_g, x=x_g)\n",
    "        print pars\n",
    "        fwhm = pars['fwhm']._val\n",
    "        sigma = pars['sigma']._val\n",
    "        amplitude = pars['amplitude']._val\n",
    "        center = pars['center']._val\n",
    "        #print center, sigma, fwhm, peakmax\n",
    "\n",
    "        if plot:\n",
    "            plot_peak(energy[:500], counts[:500], energy[bin325:bin404], peakpos, TC, x, BKG, y_savgol, peak_diff, fwhm, filename,\n",
    "                      mu=energy[bin325+peakpos] , sigma=sigma, norm=peakmax)\n",
    "        return peakmax, fwhm, center, sigma, z\n",
    "\n"
   ]
  },
  {
   "cell_type": "code",
   "execution_count": 43,
   "metadata": {
    "collapsed": true
   },
   "outputs": [],
   "source": [
    "import numpy\n",
    "def gauss(x, mu, sigma, norm=1):\n",
    "    #print x\n",
    "    #print mu, sigma\n",
    "    ret = numpy.exp(-(x-mu)**2/2./sigma**2)\n",
    "    #print(ret)\n",
    "    return ret * norm"
   ]
  },
  {
   "cell_type": "code",
   "execution_count": 44,
   "metadata": {
    "collapsed": false,
    "scrolled": true
   },
   "outputs": [
    {
     "name": "stdout",
     "output_type": "stream",
     "text": [
      "Parameters([('sigma', <Parameter 'sigma', 5.9126814018212315, bounds=[0.0:inf]>), ('center', <Parameter 'center', 363.65529537064003, bounds=[-inf:inf]>), ('amplitude', <Parameter 'amplitude', 22811.124848226311, bounds=[-inf:inf]>), ('fwhm', <Parameter 'fwhm', 13.923300418636673, bounds=[-inf:inf], expr='2.3548200*sigma'>), ('height', <Parameter 'height', 1539.1193934, bounds=[-inf:inf], expr='0.3989423*amplitude/max(1.e-15, sigma)'>)])\n",
      "357.538349791 371.461650209\n",
      "[-0.00050385161170140365, 0.564267888869325, -215.55178997295084, 28956.932858485121]\n"
     ]
    },
    {
     "data": {
      "image/png": "[encoded data removed]",
      "text/plain": [
       "<matplotlib.figure.Figure at 0xac80e10>"
      ]
     },
     "metadata": {},
     "output_type": "display_data"
    }
   ],
   "source": [
    "peakmax, fwhm, center, sigma, z = get_peak_364_poc(new_E_scale, counts, plot=True)\n",
    "print(list(z))"
   ]
  },
  {
   "cell_type": "markdown",
   "metadata": {},
   "source": [
    "### Pipeline"
   ]
  },
  {
   "cell_type": "code",
   "execution_count": 45,
   "metadata": {
    "collapsed": true
   },
   "outputs": [],
   "source": [
    "def read_1h_file(filepath):\n",
    "    with open(filepath, 'r') as f:\n",
    "        s = f.readlines()\n",
    "        index = 0\n",
    "        counts = numpy.zeros(2048)\n",
    "        for line in s[4:]:\n",
    "            count = line.strip().split()[1]\n",
    "            counts[index] = count\n",
    "            index += 1\n",
    "    return counts, s[:4]\n",
    "    \n",
    "\n",
    "def write_file(header, new_E_scale, counts, outpath):\n",
    "    for e, c in zip(new_E_scale, counts):\n",
    "        header.append('%15.5f %10d\\n' % (e, c))\n",
    "        \n",
    "    with open(outpath, 'w+') as f:\n",
    "        f.writelines(header)\n",
    "\n",
    "\n",
    "def write_peak_file(peakmax, fwhm, center, sigma, z_poly, filename, fi, outpath):\n",
    "    lines = []\n",
    "    lines.append(filename+'\\n')\n",
    "    lines.append('peakmax, fwhm, center, sigma\\n')\n",
    "    lines.append('%5.4f %5.4f %5.4f %5.4f\\n' % (peakmax, fwhm, center, sigma))\n",
    "    lines.append('polynom:')\n",
    "    lines.append(' ax**3 + bx**2 + cx + d \\n')\n",
    "    lines.append('%10.9f %10.9f %10.9f %10.9f\\n\\n' % (z_poly[0], z_poly[1], z_poly[2], z_poly[3]))\n",
    "\n",
    "    if fi == 0:\n",
    "        with open(outpath, 'w+') as f:\n",
    "            f.writelines(lines)\n",
    "    else:\n",
    "        with open(outpath, 'a') as f:\n",
    "            f.writelines(lines)\n",
    "        \n",
    "\n",
    "def process_file(filedir, filename, fi, outdir):\n",
    "    counts, header = read_1h_file(os.path.join(filedir, filename))\n",
    "    xfilt = savgol_filter(counts, 5, 2)\n",
    "    \n",
    "    #do spectra shift\n",
    "    peaks = find_peaks(xfilt)\n",
    "    x = peaks\n",
    "    y = corresponding_energies\n",
    "    z = numpy.polyfit( x, y, 2)\n",
    "    scalepoly = numpy.poly1d(z)\n",
    "    new_E_scale = scalepoly(range(2048))\n",
    "    \n",
    "    peakmax, fwhm, center, sigma, z_poly = get_peak_364_poc(new_E_scale, counts, filename)\n",
    "    ##BOXPLOT write_file(header, new_E_scale, counts, os.path.join(outdir, filename))\n",
    "    ##BOXPLOT write_peak_file(peakmax, fwhm, center, sigma, z_poly, filename, fi, os.path.join(outdir, 'peak_364', 'peaks_364.txt'))\n",
    "    return peakmax, center"
   ]
  },
  {
   "cell_type": "code",
   "execution_count": null,
   "metadata": {
    "collapsed": false,
    "scrolled": true
   },
   "outputs": [],
   "source": [
    "hourly_files_dir = os.path.join('hourly')\n",
    "files = os.listdir(hourly_files_dir)\n",
    "\n",
    "peak_364_boxplots = []\n",
    "\n",
    "for fi, fn in enumerate(files[:]):\n",
    "    if not fi % 100: print(fi, fn)\n",
    "    peakmax, center = process_file(hourly_files_dir, fn, fi, 'hourly_calib')\n",
    "    peak_364_boxplots.append((center, peakmax))"
   ]
  },
  {
   "cell_type": "code",
   "execution_count": null,
   "metadata": {
    "collapsed": false
   },
   "outputs": [],
   "source": [
    "peak_364_boxplots = numpy.array(peak_364_boxplots)\n",
    "peak_364_boxplots.shape\n",
    "scipy.io.savemat('boxplots.m', {\"p364\": peak_364_boxplots})"
   ]
  },
  {
   "cell_type": "code",
   "execution_count": null,
   "metadata": {
    "collapsed": false
   },
   "outputs": [],
   "source": [
    "fig = plt.figure()\n",
    "ax = fig.add_subplot(111)\n",
    "ax.boxplot(peak_364_boxplots[:,1], showfliers=False)"
   ]
  },
  {
   "cell_type": "markdown",
   "metadata": {},
   "source": [
    "# 364 BETTER - grid optim"
   ]
  },
  {
   "cell_type": "code",
   "execution_count": 68,
   "metadata": {
    "collapsed": false
   },
   "outputs": [],
   "source": [
    "def get_peak_364_poc(energy, counts, filename=None, plot=False):\n",
    "    new_scale = numpy.linspace(energy[0], energy[-1], 2048*3)\n",
    "    #print(new_scale)\n",
    "    new_counts = griddata(energy, counts, (new_scale,), method='linear')\n",
    "    #print(new_counts)\n",
    "\n",
    "    #bin325 = numpy.digitize(225, new_scale)\n",
    "    #bin342 = numpy.digitize(235, new_scale)\n",
    "\n",
    "    #bin387 = numpy.digitize(270, new_scale)\n",
    "    #bin404 = numpy.digitize(280, new_scale)\n",
    "\n",
    "    energy = new_scale\n",
    "    counts = new_counts\n",
    "\n",
    "    \n",
    "    #energy range we want\n",
    "    try:\n",
    "        bin325 = numpy.digitize(325, energy)\n",
    "        bin342 = numpy.digitize(342, energy)\n",
    "    \n",
    "        bin387 = numpy.digitize(387, energy)\n",
    "        bin404 = numpy.digitize(404, energy)\n",
    "    except:\n",
    "        print filename\n",
    "        return 0, 0, 0, 0, [0,0,0,0]\n",
    "    else:\n",
    "\n",
    "        \n",
    "        \n",
    "        #do polyfit\n",
    "        x = numpy.hstack((energy[bin325:bin342], energy[bin387:bin404]))\n",
    "        #print x\n",
    "        y = numpy.hstack((counts[bin325:bin342], counts[bin387:bin404]))\n",
    "\n",
    "\n",
    "        y_savgol =  numpy.hstack((savgol_filter(counts[bin325:bin342], 5, 1), savgol_filter(counts[bin387:bin404], 5, 1)))\n",
    "        z = numpy.polyfit(x, y, 3)\n",
    "\n",
    "        #get it as a polynom\n",
    "        trans_p1 = numpy.poly1d(z)\n",
    "\n",
    "        #estimated background\n",
    "        BKG = trans_p1(energy[bin325:bin404])\n",
    "        #tru counts\n",
    "        TC = counts[bin325:bin404]\n",
    "\n",
    "        #subtract background\n",
    "        peak_diff =TC-BKG\n",
    "\n",
    "        peakpos_c = numpy.argmax(peak_diff)\n",
    "        peakmax = numpy.max(peak_diff)\n",
    "\n",
    "\n",
    "        \n",
    "        def fitt(peakpos, peakmax, peak_delta):\n",
    "            x_g = energy[bin325+peakpos-peak_delta:bin325+peakpos+peak_delta:]\n",
    "            y_g = counts[bin325+peakpos-peak_delta:bin325+peakpos+peak_delta:]\n",
    "            y_g = numpy.where(y_g > 0., y_g, 0.)\n",
    "\n",
    "            mod = GaussianModel()\n",
    "            pars = mod.guess(y_g, x=x_g)\n",
    "            #print(pars)\n",
    "            pars.__repr__()\n",
    "            fwhm = pars['fwhm']._val\n",
    "            sigma = pars['sigma']._val\n",
    "            amplitude = pars['amplitude']._val\n",
    "            center = pars['center']._val\n",
    "            #print center, sigma, fwhm, peakmax\n",
    "\n",
    "\n",
    "            #difference in peka diff and data\n",
    "            curve_1 = peak_diff  # [bin240-bin325: bin270-bin325]\n",
    "            curve_2 = gauss(energy[bin325:bin404], energy[bin325:bin404][peakpos], sigma, peakmax)  # [bin240-bin325: bin270-bin325]\n",
    "            numdiff = numpy.sum((curve_1-curve_2)**2)\n",
    "            #print('===Difference: peakdelta=%d,  %5.4f,  %5.4f, diff=%4.5e' % (peak_delta, peakpos, peakmax, numdiff))\n",
    "            return numdiff, fwhm, sigma, amplitude, center\n",
    "\n",
    "        diff_vector = []\n",
    "        fit_params = []\n",
    "        \n",
    "        try_delta = 12\n",
    "        try_peak_delta = 24\n",
    "        for peakpos in range(max(0,peakpos_c-try_delta), min(peak_diff.shape[0], peakpos_c+try_delta+1)):\n",
    "            ##fit gaussian\n",
    "            \n",
    "            \n",
    "            if peak_diff[peakpos] > 0:\n",
    "                peakmax = peak_diff[peakpos]\n",
    "                for peak_delta in range(6, try_peak_delta):\n",
    "                    numdiff, fwhm, sigma, amplitude, center = fitt(peakpos, peakmax, peak_delta)\n",
    "                    diff_vector.append(numdiff)\n",
    "                    fit_params.append((peakpos, peakmax, peak_delta))\n",
    "\n",
    "        diff_vector = numpy.array(diff_vector)\n",
    "        \n",
    "        peakpos, peakmax, peak_delta = fit_params[numpy.argmin(diff_vector)]\n",
    "        \n",
    "        numdiff, fwhm, sigma, amplitude, center = fitt(peakpos, peakmax, peak_delta)\n",
    "        \n",
    "        \n",
    "        if plot:\n",
    "            plot_peak(energy[:500], counts[:500], energy[bin325:bin404], peakpos, TC, x, BKG, y_savgol, peak_diff, fwhm, filename,\n",
    "                      mu=energy[bin325+peakpos] , sigma=sigma, norm=peakmax)\n",
    "        return peakmax, fwhm, center, sigma, z\n",
    "    \n",
    "\n"
   ]
  },
  {
   "cell_type": "markdown",
   "metadata": {},
   "source": [
    "#### pipeline"
   ]
  },
  {
   "cell_type": "code",
   "execution_count": 70,
   "metadata": {
    "collapsed": true
   },
   "outputs": [],
   "source": [
    "def read_1h_file(filepath):\n",
    "    with open(filepath, 'r') as f:\n",
    "        s = f.readlines()\n",
    "        index = 0\n",
    "        counts = numpy.zeros(2048)\n",
    "        for line in s[4:]:\n",
    "            count = line.strip().split()[1]\n",
    "            counts[index] = count\n",
    "            index += 1\n",
    "    return counts, s[:4]\n",
    "    \n",
    "\n",
    "def write_file(header, new_E_scale, counts, outpath):\n",
    "    for e, c in zip(new_E_scale, counts):\n",
    "        header.append('%15.5f %10d\\n' % (e, c))\n",
    "        \n",
    "    with open(outpath, 'w+') as f:\n",
    "        f.writelines(header)\n",
    "\n",
    "\n",
    "def write_peak_file(peakmax, fwhm, center, sigma, z_poly, filename, fi, outpath):\n",
    "    lines = []\n",
    "    lines.append(filename+'\\n')\n",
    "    lines.append('peakmax, fwhm, center, sigma\\n')\n",
    "    lines.append('%5.4f %5.4f %5.4f %5.4f\\n' % (peakmax, fwhm, center, sigma))\n",
    "    lines.append('polynom:')\n",
    "    lines.append(' ax**3 + bx**2 + cx + d \\n')\n",
    "    lines.append('%10.9f %10.9f %10.9f %10.9f\\n\\n' % (z_poly[0], z_poly[1], z_poly[2], z_poly[3]))\n",
    "\n",
    "    if fi == 0:\n",
    "        with open(outpath, 'w+') as f:\n",
    "            f.writelines(lines)\n",
    "    else:\n",
    "        with open(outpath, 'a') as f:\n",
    "            f.writelines(lines)\n",
    "        \n",
    "\n",
    "def process_file(filedir, filename, fi, outdir):\n",
    "    counts, header = read_1h_file(os.path.join(filedir, filename))\n",
    "    xfilt = savgol_filter(counts, 5, 2)\n",
    "    \n",
    "    #do spectra shift\n",
    "    peaks = find_peaks(xfilt)\n",
    "    x = peaks\n",
    "    y = corresponding_energies\n",
    "    z = numpy.polyfit( x, y, 2)\n",
    "    scalepoly = numpy.poly1d(z)\n",
    "    new_E_scale = scalepoly(range(2048))\n",
    "    \n",
    "    peakmax, fwhm, center, sigma, z_poly = get_peak_364_poc(new_E_scale, counts, filename)\n",
    "    write_file(header, new_E_scale, counts, os.path.join(outdir, filename))\n",
    "    write_peak_file(peakmax, fwhm, center, sigma, z_poly, filename, fi, os.path.join(outdir, 'peak_364', 'peaks_364_gridoptim.txt'))\n",
    "    return peakmax, center"
   ]
  },
  {
   "cell_type": "code",
   "execution_count": 72,
   "metadata": {
    "collapsed": false
   },
   "outputs": [
    {
     "name": "stdout",
     "output_type": "stream",
     "text": [
      "(0, 'DET01_2013-03-01_09-08-39.TXT')\n",
      "(100, 'DET01_2013-03-05_13-55-25.TXT')\n",
      "(200, 'DET01_2013-03-09_18-51-38.TXT')\n",
      "(300, 'DET01_2013-03-13_23-39-44.TXT')\n",
      "(400, 'DET01_2013-03-18_04-30-38.TXT')\n",
      "(500, 'DET01_2013-03-22_09-24-25.TXT')\n",
      "(600, 'DET01_2013-03-26_14-18-29.TXT')\n",
      "Error in file DET01_2013-03-28_13-45-43.TXT\n",
      "(700, 'DET01_2013-03-30_19-17-52.TXT')\n",
      "(800, 'DET01_2013-04-04_00-52-11.TXT')\n",
      "(900, 'DET01_2013-04-08_05-41-50.TXT')\n",
      "(1000, 'DET01_2013-04-12_10-31-25.TXT')\n",
      "(1100, 'DET01_2013-04-16_15-18-35.TXT')\n",
      "(1200, 'DET01_2013-04-20_20-06-02.TXT')\n",
      "(1300, 'DET01_2013-04-25_01-02-53.TXT')\n",
      "(1400, 'DET01_2013-04-29_05-50-36.TXT')\n",
      "(1500, 'DET01_2013-05-03_11-28-52.TXT')\n",
      "(1600, 'DET01_2013-05-07_16-18-22.TXT')\n",
      "(1700, 'DET01_2013-05-11_21-09-45.TXT')\n",
      "(1800, 'DET01_2013-05-16_02-01-30.TXT')\n",
      "(1900, 'DET01_2013-05-20_07-01-21.TXT')\n",
      "(2000, 'DET01_2013-05-24_11-53-04.TXT')\n",
      "(2100, 'DET01_2013-05-28_16-40-43.TXT')\n",
      "(2200, 'DET01_2013-06-01_22-19-27.TXT')\n",
      "(2300, 'DET01_2013-06-06_03-07-16.TXT')\n",
      "(2400, 'DET01_2013-06-10_07-54-39.TXT')\n",
      "(2500, 'DET01_2013-06-14_12-44-24.TXT')\n",
      "(2600, 'DET01_2013-06-18_17-40-25.TXT')\n",
      "(2700, 'DET01_2013-06-22_22-27-10.TXT')\n",
      "(2800, 'DET01_2013-06-27_03-17-54.TXT')\n",
      "(2900, 'DET01_2013-07-01_09-10-00.TXT')\n",
      "(3000, 'DET01_2013-07-05_14-02-37.TXT')\n",
      "(3100, 'DET01_2013-07-09_18-53-23.TXT')\n",
      "(3200, 'DET01_2013-07-13_23-50-20.TXT')\n",
      "(3300, 'DET01_2013-07-18_04-38-43.TXT')\n",
      "(3400, 'DET01_2013-07-22_09-26-41.TXT')\n",
      "(3500, 'DET01_2013-07-26_14-13-39.TXT')\n",
      "(3600, 'DET01_2013-07-30_19-00-45.TXT')\n",
      "(3700, 'DET01_2013-08-04_00-38-49.TXT')\n",
      "(3800, 'DET01_2013-08-08_05-36-00.TXT')\n",
      "(3900, 'DET01_2013-08-12_10-24-19.TXT')\n",
      "(4000, 'DET01_2013-08-16_15-13-44.TXT')\n",
      "(4100, 'DET01_2013-08-20_20-03-02.TXT')\n",
      "(4200, 'DET01_2013-08-25_00-54-13.TXT')\n",
      "(4300, 'DET01_2013-08-29_05-47-04.TXT')\n",
      "(4400, 'DET01_2013-09-02_11-33-01.TXT')\n",
      "(4500, 'DET01_2013-09-06_16-27-36.TXT')\n",
      "(4600, 'DET01_2013-09-10_21-21-48.TXT')\n",
      "(4700, 'DET01_2013-09-15_02-16-50.TXT')\n",
      "(4800, 'DET01_2013-09-19_07-10-49.TXT')\n",
      "(4900, 'DET01_2013-09-23_12-02-14.TXT')\n",
      "(5000, 'DET01_2013-09-27_16-52-46.TXT')\n",
      "(5100, 'DET01_2013-10-01_22-13-02.TXT')\n",
      "(5200, 'DET01_2013-10-06_03-04-28.TXT')\n",
      "(5300, 'DET01_2013-10-10_08-07-31.TXT')\n",
      "(5400, 'DET01_2013-10-14_13-10-14.TXT')\n",
      "(5500, 'DET01_2013-10-18_18-12-03.TXT')\n",
      "(5600, 'DET01_2013-10-22_23-06-34.TXT')\n",
      "(5700, 'DET01_2013-10-27_04-02-42.TXT')\n",
      "(5800, 'DET01_2013-10-31_08-51-01.TXT')\n",
      "(5900, 'DET01_2013-11-04_13-52-23.TXT')\n",
      "(6000, 'DET01_2013-11-08_18-53-49.TXT')\n",
      "(6100, 'DET01_2013-11-12_23-47-03.TXT')\n",
      "(6200, 'DET01_2013-11-17_04-34-50.TXT')\n",
      "(6300, 'DET01_2013-11-21_09-22-20.TXT')\n",
      "(6400, 'DET01_2013-11-25_14-10-21.TXT')\n",
      "(6500, 'DET01_2013-11-29_19-01-02.TXT')\n",
      "(6600, 'DET01_2013-12-04_00-38-26.TXT')\n",
      "(6700, 'DET01_2013-12-08_05-26-41.TXT')\n",
      "(6800, 'DET01_2013-12-12_10-15-18.TXT')\n",
      "(6900, 'DET01_2013-12-16_15-05-51.TXT')\n",
      "(7000, 'DET01_2013-12-20_19-57-11.TXT')\n",
      "(7100, 'DET01_2014-01-03_13-33-04.TXT')\n",
      "(7200, 'DET01_2014-01-07_18-20-15.TXT')\n",
      "(7300, 'DET01_2014-01-11_23-07-29.TXT')\n",
      "(7400, 'DET01_2014-01-16_03-54-37.TXT')\n",
      "(7500, 'DET01_2014-01-20_08-41-55.TXT')\n",
      "(7600, 'DET01_2014-02-05_15-30-28.TXT')\n",
      "(7700, 'DET01_2014-02-10_08-54-54.TXT')\n",
      "(7800, 'DET01_2014-02-14_14-03-04.TXT')\n",
      "(7900, 'DET01_2014-02-18_19-11-58.TXT')\n",
      "(8000, 'DET01_2014-02-23_00-06-59.TXT')\n",
      "(8100, 'DET01_2014-02-27_04-54-35.TXT')\n",
      "(8200, 'DET01_2014-03-03_10-32-44.TXT')\n",
      "(8300, 'DET01_2014-03-07_15-20-31.TXT')\n",
      "(8400, 'DET01_2014-03-11_20-16-59.TXT')\n"
     ]
    }
   ],
   "source": [
    "hourly_files_dir = os.path.join('hourly')\n",
    "files = os.listdir(hourly_files_dir)\n",
    "\n",
    "peak_364_boxplots = []\n",
    "\n",
    "for fi, fn in enumerate(files[:]):\n",
    "    if not fi % 100: print(fi, fn)\n",
    "    try:\n",
    "        peakmax, center = process_file(hourly_files_dir, fn, fi, 'hourly_calib')\n",
    "        peak_364_boxplots.append((center, peakmax))\n",
    "    except:\n",
    "        print('Error in file %s' % fn)"
   ]
  },
  {
   "cell_type": "markdown",
   "metadata": {},
   "source": [
    "# 250keV"
   ]
  },
  {
   "cell_type": "code",
   "execution_count": 47,
   "metadata": {
    "collapsed": true
   },
   "outputs": [],
   "source": [
    "def get_peak_250_poc(energy, counts, filename=None, plot=False):\n",
    "\n",
    "    #energy range we want\n",
    "    try:\n",
    "        bin325 = numpy.digitize(225, energy)\n",
    "        bin342 = numpy.digitize(235, energy)\n",
    "    \n",
    "        bin387 = numpy.digitize(270, energy)\n",
    "        bin404 = numpy.digitize(280, energy)\n",
    "    except:\n",
    "        print filename\n",
    "        return 0, 0, 0, 0, [0,0,0,0]\n",
    "    else:\n",
    "\n",
    "        #do polyfit\n",
    "        x = numpy.hstack((energy[bin325:bin342], energy[bin387:bin404]))\n",
    "        #print x\n",
    "        y = numpy.hstack((counts[bin325:bin342], counts[bin387:bin404]))\n",
    "\n",
    "\n",
    "        y_savgol =  numpy.hstack((savgol_filter(counts[bin325:bin342], 5, 1), savgol_filter(counts[bin387:bin404], 5, 1)))\n",
    "        z = numpy.polyfit(x, y, 3)\n",
    "\n",
    "        #get it as a polynom\n",
    "        trans_p1 = numpy.poly1d(z)\n",
    "\n",
    "        #estimated background\n",
    "        BKG = trans_p1(energy[bin325:bin404])\n",
    "        #tru counts\n",
    "        TC = counts[bin325:bin404]\n",
    "\n",
    "        #subtract background\n",
    "        peak_diff =TC-BKG\n",
    "\n",
    "        peakpos = numpy.argmax(peak_diff)\n",
    "        peakmax = numpy.max(peak_diff)\n",
    "\n",
    "        ##fit gaussian\n",
    "        peak_delta = 6\n",
    "        x_g = energy[bin325+peakpos-peak_delta:bin325+peakpos+peak_delta:]\n",
    "        y_g = counts[bin325+peakpos-peak_delta:bin325+peakpos+peak_delta:]\n",
    "        y_g = numpy.where(y_g > 0., y_g, 0.)\n",
    "\n",
    "        mod = GaussianModel()\n",
    "        pars = mod.guess(y_g, x=x_g)\n",
    "        print pars\n",
    "        fwhm = pars['fwhm']._val\n",
    "        sigma = pars['sigma']._val\n",
    "        amplitude = pars['amplitude']._val\n",
    "        center = pars['center']._val\n",
    "        #print center, sigma, fwhm, peakmax\n",
    "\n",
    "        if plot:\n",
    "            plot_peak(energy[:500], counts[:500], energy[bin325:bin404], peakpos, TC, x, BKG, y_savgol, peak_diff, fwhm, filename,\n",
    "                      mu=energy[bin325+peakpos] , sigma=sigma, norm=peakmax)\n",
    "        return peakmax, fwhm, center, sigma, z\n",
    "\n"
   ]
  },
  {
   "cell_type": "markdown",
   "metadata": {},
   "source": [
    "#### pipeline"
   ]
  },
  {
   "cell_type": "code",
   "execution_count": null,
   "metadata": {
    "collapsed": false
   },
   "outputs": [],
   "source": [
    "def read_1h_file(filepath):\n",
    "    with open(filepath, 'r') as f:\n",
    "        s = f.readlines()\n",
    "        index = 0\n",
    "        counts = numpy.zeros(2048)\n",
    "        for line in s[4:]:\n",
    "            count = line.strip().split()[1]\n",
    "            counts[index] = count\n",
    "            index += 1\n",
    "    return counts, s[:4]\n",
    "    \n",
    "\n",
    "def write_file(header, new_E_scale, counts, outpath):\n",
    "    for e, c in zip(new_E_scale, counts):\n",
    "        header.append('%15.5f %10d\\n' % (e, c))\n",
    "        \n",
    "    with open(outpath, 'w+') as f:\n",
    "        f.writelines(header)\n",
    "\n",
    "\n",
    "def write_peak_file(peakmax, fwhm, center, sigma, z_poly, filename, fi, outpath):\n",
    "    lines = []\n",
    "    lines.append(filename+'\\n')\n",
    "    lines.append('peakmax, fwhm, center, sigma\\n')\n",
    "    lines.append('%5.4f %5.4f %5.4f %5.4f\\n' % (peakmax, fwhm, center, sigma))\n",
    "    lines.append('polynom:')\n",
    "    lines.append(' ax**3 + bx**2 + cx + d \\n')\n",
    "    lines.append('%10.9f %10.9f %10.9f %10.9f\\n\\n' % (z_poly[0], z_poly[1], z_poly[2], z_poly[3]))\n",
    "\n",
    "    if fi == 0:\n",
    "        with open(outpath, 'w+') as f:\n",
    "            f.writelines(lines)\n",
    "    else:\n",
    "        with open(outpath, 'a') as f:\n",
    "            f.writelines(lines)\n",
    "        \n",
    "\n",
    "def process_file(filedir, filename, fi, outdir):\n",
    "    counts, header = read_1h_file(os.path.join(filedir, filename))\n",
    "    xfilt = savgol_filter(counts, 5, 2)\n",
    "    \n",
    "    #do spectra shift\n",
    "    peaks = find_peaks(xfilt)\n",
    "    x = peaks\n",
    "    y = corresponding_energies\n",
    "    z = numpy.polyfit( x, y, 2)\n",
    "    scalepoly = numpy.poly1d(z)\n",
    "    new_E_scale = scalepoly(range(2048))\n",
    "    \n",
    "    peakmax, fwhm, center, sigma, z_poly = get_peak_250_poc(new_E_scale, counts, filename, plot=True)\n",
    "    write_file(header, new_E_scale, counts, os.path.join(outdir, filename))\n",
    "    #write_peak_file(peakmax, fwhm, center, sigma, z_poly, filename, fi, os.path.join(outdir, 'peak_250', 'peaks_250_delta6.txt'))\n",
    "    \n",
    "    return center, peakmax"
   ]
  },
  {
   "cell_type": "code",
   "execution_count": null,
   "metadata": {
    "collapsed": false,
    "scrolled": true
   },
   "outputs": [],
   "source": [
    "hourly_files_dir = os.path.join('hourly')\n",
    "files = os.listdir(hourly_files_dir)\n",
    "\n",
    "print(\"hohoho\", files.index('DET01_2013-07-19_19-57-18.TXT'))\n",
    "\n",
    "examples = ['DET01_2013-03-29_06-56-16.TXT','DET01_2013-07-19_19-57-18.TXT','DET01_2013-07-05_21-06-10.TXT']\n",
    "\n",
    "peak250_boxplot = []\n",
    "\n",
    "for fi, fn in enumerate(examples):  # files[:]): #['DET01_2013-07-19_19-57-18.TXT']): ##files[:]):\n",
    "    if not fi % 100: print(fi, fn)\n",
    "    center, peakmax = process_file(hourly_files_dir, fn, fi, 'hourly_calib')\n",
    "    peak250_boxplot.append((center, peakmax))"
   ]
  },
  {
   "cell_type": "code",
   "execution_count": null,
   "metadata": {
    "collapsed": false
   },
   "outputs": [],
   "source": [
    "peak250_boxplot = numpy.array(peak250_boxplot)\n",
    "print(peak250_boxplot.shape)\n",
    "scipy.io.savemat('boxplots.m', {\"p364\": peak_364_boxplots,\n",
    "                                \"p250\": peak250_boxplot})"
   ]
  },
  {
   "cell_type": "markdown",
   "metadata": {},
   "source": [
    "## 250 keV BETTER"
   ]
  },
  {
   "cell_type": "code",
   "execution_count": 63,
   "metadata": {
    "collapsed": true
   },
   "outputs": [],
   "source": [
    "from scipy.interpolate import griddata\n",
    "\n",
    "def get_peak_250_fine(energy, counts, filename=None, plot=False):\n",
    "\n",
    "    \n",
    "    \n",
    "    \n",
    "    new_scale = numpy.linspace(energy[0], energy[-1], 2048*3)\n",
    "    #print(new_scale)\n",
    "    new_counts = griddata(energy, counts, (new_scale,), method='linear')\n",
    "    #print(new_counts)\n",
    "\n",
    "    #bin325 = numpy.digitize(225, new_scale)\n",
    "    #bin342 = numpy.digitize(235, new_scale)\n",
    "\n",
    "    #bin387 = numpy.digitize(270, new_scale)\n",
    "    #bin404 = numpy.digitize(280, new_scale)\n",
    "\n",
    "    energy = new_scale\n",
    "    counts = new_counts\n",
    "\n",
    "    \n",
    "    #energy range we want\n",
    "    try:\n",
    "        bin325 = numpy.digitize(225, energy)\n",
    "        bin342 = numpy.digitize(235, energy)\n",
    "    \n",
    "        bin240 = numpy.digitize(240, energy)\n",
    "        bin270 = numpy.digitize(270, energy)\n",
    "    \n",
    "        bin387 = numpy.digitize(265, energy)\n",
    "        bin404 = numpy.digitize(273, energy)\n",
    "    except:\n",
    "        print filename\n",
    "        return 0, 0, 0, 0, [0,0,0,0]\n",
    "    else:\n",
    "\n",
    "        \n",
    "        \n",
    "        #do polyfit\n",
    "        x = numpy.hstack((energy[bin325:bin342], energy[bin387:bin404]))\n",
    "        #print x\n",
    "        y = numpy.hstack((counts[bin325:bin342], counts[bin387:bin404]))\n",
    "\n",
    "\n",
    "        y_savgol =  numpy.hstack((savgol_filter(counts[bin325:bin342], 5, 1), savgol_filter(counts[bin387:bin404], 5, 1)))\n",
    "        z = numpy.polyfit(x, y, 3)\n",
    "\n",
    "        #get it as a polynom\n",
    "        trans_p1 = numpy.poly1d(z)\n",
    "\n",
    "        #estimated background\n",
    "        BKG = trans_p1(energy[bin325:bin404])\n",
    "        #tru counts\n",
    "        TC = counts[bin325:bin404]\n",
    "\n",
    "        #subtract background\n",
    "        peak_diff =TC-BKG\n",
    "\n",
    "        peakpos_c = numpy.argmax(peak_diff)\n",
    "        peakmax = numpy.max(peak_diff)\n",
    "\n",
    "\n",
    "        \n",
    "        def fitt(peakpos, peakmax, peak_delta):\n",
    "            x_g = energy[bin325+peakpos-peak_delta:bin325+peakpos+peak_delta:]\n",
    "            y_g = counts[bin325+peakpos-peak_delta:bin325+peakpos+peak_delta:]\n",
    "            y_g = numpy.where(y_g > 0., y_g, 0.)\n",
    "\n",
    "            mod = GaussianModel()\n",
    "            pars = mod.guess(y_g, x=x_g)\n",
    "            #print(pars)\n",
    "            pars.__repr__()\n",
    "            fwhm = pars['fwhm']._val\n",
    "            sigma = pars['sigma']._val\n",
    "            amplitude = pars['amplitude']._val\n",
    "            center = pars['center']._val\n",
    "            #print center, sigma, fwhm, peakmax\n",
    "\n",
    "\n",
    "            #difference in peka diff and data\n",
    "            curve_1 = peak_diff  # [bin240-bin325: bin270-bin325]\n",
    "            curve_2 = gauss(energy[bin325:bin404], energy[bin325:bin404][peakpos], sigma, peakmax)  # [bin240-bin325: bin270-bin325]\n",
    "            numdiff = numpy.sum((curve_1-curve_2)**2)\n",
    "            #print('===Difference: peakdelta=%d,  %5.4f,  %5.4f, diff=%4.5e' % (peak_delta, peakpos, peakmax, numdiff))\n",
    "            return numdiff, fwhm, sigma, amplitude, center\n",
    "\n",
    "        diff_vector = []\n",
    "        fit_params = []\n",
    "        \n",
    "        try_delta = 12\n",
    "        try_peak_delta = 24\n",
    "        for peakpos in range(max(0,peakpos_c-try_delta), min(peak_diff.shape[0], peakpos_c+try_delta+1)):\n",
    "            ##fit gaussian\n",
    "            \n",
    "            \n",
    "            if peak_diff[peakpos] > 0:\n",
    "                peakmax = peak_diff[peakpos]\n",
    "                for peak_delta in range(6, try_peak_delta):\n",
    "                    numdiff, fwhm, sigma, amplitude, center = fitt(peakpos, peakmax, peak_delta)\n",
    "                    diff_vector.append(numdiff)\n",
    "                    fit_params.append((peakpos, peakmax, peak_delta))\n",
    "\n",
    "        diff_vector = numpy.array(diff_vector)\n",
    "        \n",
    "        peakpos, peakmax, peak_delta = fit_params[numpy.argmin(diff_vector)]\n",
    "        \n",
    "        numdiff, fwhm, sigma, amplitude, center = fitt(peakpos, peakmax, peak_delta)\n",
    "        \n",
    "        \n",
    "        if plot:\n",
    "            plot_peak(energy[:500], counts[:500], energy[bin325:bin404], peakpos, TC, x, BKG, y_savgol, peak_diff, fwhm, filename,\n",
    "                      mu=energy[bin325+peakpos] , sigma=sigma, norm=peakmax)\n",
    "        return peakmax, fwhm, center, sigma, z\n",
    "\n"
   ]
  },
  {
   "cell_type": "markdown",
   "metadata": {},
   "source": [
    "#### pipeline"
   ]
  },
  {
   "cell_type": "code",
   "execution_count": 64,
   "metadata": {
    "collapsed": true
   },
   "outputs": [],
   "source": [
    "def read_1h_file(filepath):\n",
    "    with open(filepath, 'r') as f:\n",
    "        s = f.readlines()\n",
    "        index = 0\n",
    "        counts = numpy.zeros(2048)\n",
    "        for line in s[4:]:\n",
    "            count = line.strip().split()[1]\n",
    "            counts[index] = count\n",
    "            index += 1\n",
    "    return counts, s[:4]\n",
    "    \n",
    "\n",
    "def write_file(header, new_E_scale, counts, outpath):\n",
    "    for e, c in zip(new_E_scale, counts):\n",
    "        header.append('%15.5f %10d\\n' % (e, c))\n",
    "        \n",
    "    with open(outpath, 'w+') as f:\n",
    "        f.writelines(header)\n",
    "\n",
    "\n",
    "def write_peak_file(peakmax, fwhm, center, sigma, z_poly, filename, fi, outpath):\n",
    "    lines = []\n",
    "    lines.append(filename+'\\n')\n",
    "    lines.append('peakmax, fwhm, center, sigma\\n')\n",
    "    lines.append('%5.4f %5.4f %5.4f %5.4f\\n' % (peakmax, fwhm, center, sigma))\n",
    "    lines.append('polynom:')\n",
    "    lines.append(' ax**3 + bx**2 + cx + d \\n')\n",
    "    lines.append('%10.9f %10.9f %10.9f %10.9f\\n\\n' % (z_poly[0], z_poly[1], z_poly[2], z_poly[3]))\n",
    "\n",
    "    if fi == 0:\n",
    "        with open(outpath, 'w+') as f:\n",
    "            f.writelines(lines)\n",
    "    else:\n",
    "        with open(outpath, 'a') as f:\n",
    "            f.writelines(lines)\n",
    "        \n",
    "\n",
    "def process_file(filedir, filename, fi, outdir):\n",
    "    counts, header = read_1h_file(os.path.join(filedir, filename))\n",
    "    xfilt = savgol_filter(counts, 5, 2)\n",
    "    \n",
    "    #do spectra shift\n",
    "    peaks = find_peaks(xfilt)\n",
    "    x = peaks\n",
    "    y = corresponding_energies\n",
    "    z = numpy.polyfit( x, y, 2)\n",
    "    scalepoly = numpy.poly1d(z)\n",
    "    new_E_scale = scalepoly(range(2048))\n",
    "    \n",
    "    peakmax, fwhm, center, sigma, z_poly = get_peak_250_fine(new_E_scale, counts, filename, plot=False)\n",
    "    write_file(header, new_E_scale, counts, os.path.join(outdir, filename))\n",
    "    write_peak_file(peakmax, fwhm, center, sigma, z_poly, filename, fi, os.path.join(outdir, 'peak_250', 'peaks_250_grid_6144_newrange.txt'))\n",
    "    \n",
    "    return center, peakmax"
   ]
  },
  {
   "cell_type": "code",
   "execution_count": 66,
   "metadata": {
    "collapsed": false,
    "scrolled": true
   },
   "outputs": [
    {
     "name": "stdout",
     "output_type": "stream",
     "text": [
      "('hohoho', 3339)\n",
      "(0, 'DET01_2013-03-01_09-08-39.TXT')\n",
      "(100, 'DET01_2013-03-05_13-55-25.TXT')\n",
      "(200, 'DET01_2013-03-09_18-51-38.TXT')\n",
      "(300, 'DET01_2013-03-13_23-39-44.TXT')\n",
      "(400, 'DET01_2013-03-18_04-30-38.TXT')\n",
      "(500, 'DET01_2013-03-22_09-24-25.TXT')\n",
      "(600, 'DET01_2013-03-26_14-18-29.TXT')\n",
      "('Failed:', 'DET01_2013-03-28_13-45-43.TXT')\n",
      "(700, 'DET01_2013-03-30_19-17-52.TXT')\n",
      "(800, 'DET01_2013-04-04_00-52-11.TXT')\n",
      "(900, 'DET01_2013-04-08_05-41-50.TXT')\n",
      "(1000, 'DET01_2013-04-12_10-31-25.TXT')\n",
      "(1100, 'DET01_2013-04-16_15-18-35.TXT')\n",
      "(1200, 'DET01_2013-04-20_20-06-02.TXT')\n",
      "(1300, 'DET01_2013-04-25_01-02-53.TXT')\n",
      "(1400, 'DET01_2013-04-29_05-50-36.TXT')\n",
      "(1500, 'DET01_2013-05-03_11-28-52.TXT')\n",
      "(1600, 'DET01_2013-05-07_16-18-22.TXT')\n",
      "(1700, 'DET01_2013-05-11_21-09-45.TXT')\n",
      "(1800, 'DET01_2013-05-16_02-01-30.TXT')\n",
      "(1900, 'DET01_2013-05-20_07-01-21.TXT')\n",
      "(2000, 'DET01_2013-05-24_11-53-04.TXT')\n",
      "(2100, 'DET01_2013-05-28_16-40-43.TXT')\n",
      "(2200, 'DET01_2013-06-01_22-19-27.TXT')\n",
      "(2300, 'DET01_2013-06-06_03-07-16.TXT')\n",
      "(2400, 'DET01_2013-06-10_07-54-39.TXT')\n",
      "(2500, 'DET01_2013-06-14_12-44-24.TXT')\n",
      "(2600, 'DET01_2013-06-18_17-40-25.TXT')\n",
      "(2700, 'DET01_2013-06-22_22-27-10.TXT')\n",
      "(2800, 'DET01_2013-06-27_03-17-54.TXT')\n",
      "(2900, 'DET01_2013-07-01_09-10-00.TXT')\n",
      "(3000, 'DET01_2013-07-05_14-02-37.TXT')\n",
      "(3100, 'DET01_2013-07-09_18-53-23.TXT')\n",
      "(3200, 'DET01_2013-07-13_23-50-20.TXT')\n",
      "(3300, 'DET01_2013-07-18_04-38-43.TXT')\n",
      "(3400, 'DET01_2013-07-22_09-26-41.TXT')\n",
      "(3500, 'DET01_2013-07-26_14-13-39.TXT')\n",
      "(3600, 'DET01_2013-07-30_19-00-45.TXT')\n",
      "(3700, 'DET01_2013-08-04_00-38-49.TXT')\n",
      "(3800, 'DET01_2013-08-08_05-36-00.TXT')\n",
      "(3900, 'DET01_2013-08-12_10-24-19.TXT')\n",
      "(4000, 'DET01_2013-08-16_15-13-44.TXT')\n",
      "(4100, 'DET01_2013-08-20_20-03-02.TXT')\n",
      "(4200, 'DET01_2013-08-25_00-54-13.TXT')\n",
      "(4300, 'DET01_2013-08-29_05-47-04.TXT')\n",
      "(4400, 'DET01_2013-09-02_11-33-01.TXT')\n",
      "(4500, 'DET01_2013-09-06_16-27-36.TXT')\n",
      "(4600, 'DET01_2013-09-10_21-21-48.TXT')\n",
      "(4700, 'DET01_2013-09-15_02-16-50.TXT')\n",
      "(4800, 'DET01_2013-09-19_07-10-49.TXT')\n",
      "(4900, 'DET01_2013-09-23_12-02-14.TXT')\n",
      "(5000, 'DET01_2013-09-27_16-52-46.TXT')\n",
      "(5100, 'DET01_2013-10-01_22-13-02.TXT')\n",
      "(5200, 'DET01_2013-10-06_03-04-28.TXT')\n",
      "(5300, 'DET01_2013-10-10_08-07-31.TXT')\n",
      "(5400, 'DET01_2013-10-14_13-10-14.TXT')\n",
      "(5500, 'DET01_2013-10-18_18-12-03.TXT')\n",
      "(5600, 'DET01_2013-10-22_23-06-34.TXT')\n",
      "(5700, 'DET01_2013-10-27_04-02-42.TXT')\n",
      "(5800, 'DET01_2013-10-31_08-51-01.TXT')\n",
      "(5900, 'DET01_2013-11-04_13-52-23.TXT')\n",
      "(6000, 'DET01_2013-11-08_18-53-49.TXT')\n",
      "(6100, 'DET01_2013-11-12_23-47-03.TXT')\n",
      "(6200, 'DET01_2013-11-17_04-34-50.TXT')\n",
      "(6300, 'DET01_2013-11-21_09-22-20.TXT')\n",
      "(6400, 'DET01_2013-11-25_14-10-21.TXT')\n",
      "(6500, 'DET01_2013-11-29_19-01-02.TXT')\n",
      "(6600, 'DET01_2013-12-04_00-38-26.TXT')\n",
      "(6700, 'DET01_2013-12-08_05-26-41.TXT')\n",
      "(6800, 'DET01_2013-12-12_10-15-18.TXT')\n",
      "(6900, 'DET01_2013-12-16_15-05-51.TXT')\n",
      "(7000, 'DET01_2013-12-20_19-57-11.TXT')\n",
      "(7100, 'DET01_2014-01-03_13-33-04.TXT')\n",
      "(7200, 'DET01_2014-01-07_18-20-15.TXT')\n",
      "(7300, 'DET01_2014-01-11_23-07-29.TXT')\n",
      "(7400, 'DET01_2014-01-16_03-54-37.TXT')\n",
      "(7500, 'DET01_2014-01-20_08-41-55.TXT')\n",
      "(7600, 'DET01_2014-02-05_15-30-28.TXT')\n",
      "(7700, 'DET01_2014-02-10_08-54-54.TXT')\n",
      "(7800, 'DET01_2014-02-14_14-03-04.TXT')\n",
      "(7900, 'DET01_2014-02-18_19-11-58.TXT')\n",
      "(8000, 'DET01_2014-02-23_00-06-59.TXT')\n",
      "(8100, 'DET01_2014-02-27_04-54-35.TXT')\n",
      "(8200, 'DET01_2014-03-03_10-32-44.TXT')\n",
      "(8300, 'DET01_2014-03-07_15-20-31.TXT')\n",
      "(8400, 'DET01_2014-03-11_20-16-59.TXT')\n"
     ]
    }
   ],
   "source": [
    "hourly_files_dir = os.path.join('hourly')\n",
    "files = os.listdir(hourly_files_dir)\n",
    "\n",
    "print(\"hohoho\", files.index('DET01_2013-07-19_19-57-18.TXT'))\n",
    "\n",
    "problem_BKG = ['DET01_2013-05-23_18-44-25.TXT']  # For 23/05/2013 @ 18:44:25']\n",
    "\n",
    "examples = ['DET01_2013-03-29_06-56-16.TXT','DET01_2013-07-19_19-57-18.TXT','DET01_2013-07-05_21-06-10.TXT']\n",
    "\n",
    "peak250_boxplot = []\n",
    "\n",
    "for fi, fn in enumerate(files[:]): #['DET01_2013-07-19_19-57-18.TXT']): ##files[:]):\n",
    "    if not fi % 100: print(fi, fn)\n",
    "    try:    \n",
    "        center, peakmax = process_file(hourly_files_dir, fn, fi, 'hourly_calib')\n",
    "        peak250_boxplot.append((center, peakmax))\n",
    "    except:\n",
    "        print('Failed:', fn)"
   ]
  },
  {
   "cell_type": "markdown",
   "metadata": {},
   "source": [
    "## 661.6 keV Peak Cesium"
   ]
  },
  {
   "cell_type": "code",
   "execution_count": null,
   "metadata": {
    "collapsed": true
   },
   "outputs": [],
   "source": [
    "def get_peak_662_poc(energy, counts, filename=None, plot=False):\n",
    "\n",
    "    #energy range we want\n",
    "    try:\n",
    "        bin325 = numpy.digitize(615, energy)\n",
    "        bin342 = numpy.digitize(631.6, energy)\n",
    "    \n",
    "        bin387 = numpy.digitize(691.6, energy)\n",
    "        bin404 = numpy.digitize(707, energy)\n",
    "    except:\n",
    "        print filename\n",
    "        return 0, 0, 0, 0, [0,0,0,0]\n",
    "    else:\n",
    "\n",
    "        #do polyfit\n",
    "        x = numpy.hstack((energy[bin325:bin342], energy[bin387:bin404]))\n",
    "        #print x\n",
    "        y = numpy.hstack((counts[bin325:bin342], counts[bin387:bin404]))\n",
    "\n",
    "\n",
    "        y_savgol =  numpy.hstack((savgol_filter(counts[bin325:bin342], 5, 1), savgol_filter(counts[bin387:bin404], 5, 1)))\n",
    "        z = numpy.polyfit(x, y, 3)\n",
    "\n",
    "        #get it as a polynom\n",
    "        trans_p1 = numpy.poly1d(z)\n",
    "\n",
    "        #estimated background\n",
    "        BKG = trans_p1(energy[bin325:bin404])\n",
    "        #tru counts\n",
    "        TC = counts[bin325:bin404]\n",
    "\n",
    "        #subtract background\n",
    "        peak_diff =TC-BKG\n",
    "\n",
    "        peakpos = numpy.argmax(peak_diff)\n",
    "        peakmax = numpy.max(peak_diff)\n",
    "\n",
    "        ##fit gaussian\n",
    "        peak_delta = 10\n",
    "        x_g = energy[bin325+peakpos-peak_delta:bin325+peakpos+peak_delta+1:]\n",
    "        y_g = counts[bin325+peakpos-peak_delta:bin325+peakpos+peak_delta+1:]\n",
    "        y_g = numpy.where(y_g > 0., y_g, 0.)\n",
    "\n",
    "        mod = GaussianModel()\n",
    "        pars = mod.guess(y_g, x=x_g)\n",
    "        print pars\n",
    "        fwhm = pars['fwhm']._val\n",
    "        sigma = pars['sigma']._val\n",
    "        amplitude = pars['amplitude']._val\n",
    "        center = pars['center']._val\n",
    "        #print center, sigma, fwhm, peakmax\n",
    "\n",
    "        if plot:\n",
    "            plot_peak(energy[:500], counts[:500], energy[bin325:bin404], peakpos, TC, x, BKG, y_savgol, peak_diff, fwhm, filename,\n",
    "                      mu=energy[bin325+peakpos] , sigma=sigma, norm=peakmax)\n",
    "        return peakmax, fwhm, center, sigma, z\n"
   ]
  },
  {
   "cell_type": "code",
   "execution_count": null,
   "metadata": {
    "collapsed": false
   },
   "outputs": [],
   "source": [
    "peakmax, fwhm, center, sigma, z = get_peak_662_poc(new_E_scale, counts,  plot=True)"
   ]
  },
  {
   "cell_type": "markdown",
   "metadata": {},
   "source": [
    "### Pipeline"
   ]
  },
  {
   "cell_type": "code",
   "execution_count": null,
   "metadata": {
    "collapsed": true
   },
   "outputs": [],
   "source": [
    "def read_1h_file(filepath):\n",
    "    with open(filepath, 'r') as f:\n",
    "        s = f.readlines()\n",
    "        index = 0\n",
    "        counts = numpy.zeros(2048)\n",
    "        for line in s[4:]:\n",
    "            count = line.strip().split()[1]\n",
    "            counts[index] = count\n",
    "            index += 1\n",
    "    return counts, s[:4]\n",
    "    \n",
    "\n",
    "def write_file(header, new_E_scale, counts, outpath):\n",
    "    for e, c in zip(new_E_scale, counts):\n",
    "        header.append('%15.5f %10d\\n' % (e, c))\n",
    "        \n",
    "    with open(outpath, 'w+') as f:\n",
    "        f.writelines(header)\n",
    "\n",
    "\n",
    "def write_peak_file(peakmax, fwhm, center, sigma, z_poly, filename, fi, outpath):\n",
    "    lines = []\n",
    "    lines.append(filename+'\\n')\n",
    "    lines.append('peakmax, fwhm, center, sigma\\n')\n",
    "    lines.append('%5.4f %5.4f %5.4f %5.4f\\n' % (peakmax, fwhm, center, sigma))\n",
    "    lines.append('polynom:')\n",
    "    lines.append(' ax**3 + bx**2 + cx + d \\n')\n",
    "    lines.append('%10.9f %10.9f %10.9f %10.9f\\n\\n' % (z_poly[0], z_poly[1], z_poly[2], z_poly[3]))\n",
    "\n",
    "    if fi == 0:\n",
    "        with open(outpath, 'w+') as f:\n",
    "            f.writelines(lines)\n",
    "    else:\n",
    "        with open(outpath, 'a') as f:\n",
    "            f.writelines(lines)\n",
    "        \n",
    "\n",
    "def process_file(filedir, filename, fi, outdir):\n",
    "    counts, header = read_1h_file(os.path.join(filedir, filename))\n",
    "    xfilt = savgol_filter(counts, 5, 2)\n",
    "    \n",
    "    #do spectra shift\n",
    "    peaks = find_peaks(xfilt)\n",
    "    x = peaks\n",
    "    y = corresponding_energies\n",
    "    z = numpy.polyfit( x, y, 2)\n",
    "    scalepoly = numpy.poly1d(z)\n",
    "    new_E_scale = scalepoly(range(2048))\n",
    "    \n",
    "    peakmax, fwhm, center, sigma, z_poly = get_peak_662_poc(new_E_scale, counts, filename, plot=False)\n",
    "    ##BOXPLOT write_file(header, new_E_scale, counts, os.path.join(outdir, filename))\n",
    "    ##BOXPLOT write_peak_file(peakmax, fwhm, center, sigma, z_poly, filename, fi, os.path.join(outdir, 'peak_662', 'peaks_662.txt'))\n",
    "    \n",
    "    return center, peakmax "
   ]
  },
  {
   "cell_type": "code",
   "execution_count": null,
   "metadata": {
    "collapsed": true
   },
   "outputs": [],
   "source": []
  },
  {
   "cell_type": "code",
   "execution_count": null,
   "metadata": {
    "collapsed": false,
    "scrolled": true
   },
   "outputs": [],
   "source": [
    "hourly_files_dir = os.path.join('hourly')\n",
    "files = os.listdir(hourly_files_dir)\n",
    "\n",
    "peak662_boxplot = []\n",
    "\n",
    "for fi, fn in enumerate(files[:]):\n",
    "    if not fi % 100: print(fi, fn)\n",
    "    center, peakmax = process_file(hourly_files_dir, fn, fi, 'hourly_calib')\n",
    "    peak662_boxplot.append((center, peakmax))"
   ]
  },
  {
   "cell_type": "code",
   "execution_count": null,
   "metadata": {
    "collapsed": false
   },
   "outputs": [],
   "source": [
    "peak662_boxplot = numpy.array(peak662_boxplot)\n",
    "print(peak662_boxplot.shape)\n",
    "scipy.io.savemat('boxplots.m', {\"p364\": peak_364_boxplots,\n",
    "                                \"p250\": peak250_boxplot,\n",
    "                                \"p662\": peak662_boxplot})"
   ]
  },
  {
   "cell_type": "markdown",
   "metadata": {
    "collapsed": true
   },
   "source": [
    "## Peak 661.6 again finally used (before grid method)"
   ]
  },
  {
   "cell_type": "code",
   "execution_count": null,
   "metadata": {
    "collapsed": true
   },
   "outputs": [],
   "source": [
    "from sklearn.mixture import GaussianMixture\n",
    "from sklearn import mixture\n",
    "import math\n",
    "import numpy\n",
    "import warnings\n",
    "warnings.filterwarnings(\"ignore\", category=DeprecationWarning)\n",
    "#warnings.filterwarnings(\"ignore\", category=VisibleDeprecationWarning)\n",
    "\n",
    "def get_fwhm(sigma):\n",
    "    \"\"\"\n",
    "    taken from http://mathworld.wolfram.com/GaussianFunction.html    \n",
    "    \"\"\"\n",
    "    return 2.3548*sigma\n",
    "    \n",
    "\n",
    "def gauss_n(x, mu, sigma, norm=1):\n",
    "    \"also with norlalization factor - the normal one\"\n",
    "    \n",
    "\n",
    "    #print x\n",
    "    #print mu, sigma\n",
    "    ret = 1./(math.sqrt(2*math.pi)*sigma) *numpy.exp(-(x-mu)**2/2./sigma**2)\n",
    "    #print(ret)\n",
    "    return ret * norm\n",
    "\n",
    "\n",
    "def get_peak_twin_poc(energy, counts, filename=None, plot=False):\n",
    "    #energy range we want\n",
    "    try:\n",
    "        bin325 = numpy.digitize(590, energy)\n",
    "        bin342 = numpy.digitize(605, energy)\n",
    "    \n",
    "        bin387 = numpy.digitize(691.6, energy)\n",
    "        bin404 = numpy.digitize(707, energy)        \n",
    "    except:\n",
    "        print filename\n",
    "        return (0, 0, 0, 0), (0, 0, 0, 0), [0,0,0,0]\n",
    "    else:\n",
    "\n",
    "        #do polyfit\n",
    "        x = numpy.hstack((energy[bin325:bin342], energy[bin387:bin404]))\n",
    "        #print x\n",
    "        y = numpy.hstack((counts[bin325:bin342], counts[bin387:bin404]))\n",
    "\n",
    "        y_savgol = numpy.hstack((savgol_filter(counts[bin325:bin342], 5, 1), savgol_filter(counts[bin387:bin404], 5, 1)))\n",
    "        z = numpy.polyfit(x, y, 3)\n",
    "\n",
    "        #get it as a polynom\n",
    "        trans_p1 = numpy.poly1d(z)\n",
    "\n",
    "        #estimated background\n",
    "        BKG = trans_p1(energy[bin325:bin404])\n",
    "        #tru counts\n",
    "        TC = counts[bin325:bin404]\n",
    "\n",
    "        #subtract background\n",
    "        peak_diff =TC-BKG\n",
    "\n",
    "        import scipy.signal\n",
    "        armgs = scipy.signal.argrelextrema(peak_diff, numpy.greater)\n",
    "\n",
    "        peak_tuples = zip(armgs[0], peak_diff[armgs[0]])\n",
    "        all_peaks = sorted(peak_tuples, key=lambda x: x[1], reverse=True)[:2]\n",
    "        all_peaks = sorted(all_peaks, key=lambda x: x[0])\n",
    "        #print armgs[0]\n",
    "        #print peak_diff[armgs[0]]\n",
    "        #print peak_tuples\n",
    "        #print all_peaks\n",
    "        peakpos1 = all_peaks[0][0]\n",
    "        peakmax1 = all_peaks[0][1]\n",
    "        peakpos2 = all_peaks[1][0]\n",
    "        peakmax2 = all_peaks[1][1]\n",
    "            \n",
    "        print peakmax1, peakmax2, max(peakmax1, peakmax2)/min(peakmax1, peakmax2)   \n",
    "        if (max(peakmax1, peakmax2)/min(peakmax1, peakmax2) >= 10.) \\\n",
    "           or \\\n",
    "           (abs(energy[peakpos1]-energy[peakpos2]) <= 5.): \n",
    "            print(\"One peak\")\n",
    "            #energy range we want\n",
    "            try:\n",
    "                bin325 = numpy.digitize(590, energy)  # numpy.digitize(615, energy)\n",
    "                bin342 = numpy.digitize(605, energy)  # numpy.digitize(631.6, energy)\n",
    "\n",
    "                bin387 = numpy.digitize(691.6, energy)\n",
    "                bin404 = numpy.digitize(707, energy)\n",
    "            except:\n",
    "                print filename\n",
    "                return 0, 0, 0, 0, [0,0,0,0]\n",
    "            else:\n",
    "\n",
    "                #do polyfit\n",
    "                x = numpy.hstack((energy[bin325:bin342], energy[bin387:bin404]))\n",
    "                #print x\n",
    "                y = numpy.hstack((counts[bin325:bin342], counts[bin387:bin404]))\n",
    "\n",
    "\n",
    "                y_savgol =  numpy.hstack((savgol_filter(counts[bin325:bin342], 5, 1), savgol_filter(counts[bin387:bin404], 5, 1)))\n",
    "                z = numpy.polyfit(x, y, 3)\n",
    "\n",
    "                #get it as a polynom\n",
    "                trans_p1 = numpy.poly1d(z)\n",
    "\n",
    "                #estimated background\n",
    "                BKG = trans_p1(energy[bin325:bin404])\n",
    "                #tru counts\n",
    "                TC = counts[bin325:bin404]\n",
    "\n",
    "                #subtract background\n",
    "                peak_diff =TC-BKG\n",
    "\n",
    "                peakpos = numpy.argmax(peak_diff)\n",
    "                peakmax = numpy.max(peak_diff)\n",
    "\n",
    "                ##fit gaussian\n",
    "                peak_delta = 10\n",
    "                x_g = energy[bin325+peakpos-peak_delta:bin325+peakpos+peak_delta+1:]\n",
    "                y_g = counts[bin325+peakpos-peak_delta:bin325+peakpos+peak_delta+1:]\n",
    "                y_g = numpy.where(y_g > 0., y_g, 0.)\n",
    "\n",
    "                mod = GaussianModel()\n",
    "                pars = mod.guess(y_g, x=x_g)\n",
    "                print pars\n",
    "                fwhm = pars['fwhm']._val\n",
    "                sigma = pars['sigma']._val\n",
    "                amplitude = pars['amplitude']._val\n",
    "                center = pars['center']._val\n",
    "                #print center, sigma, fwhm, peakmax\n",
    "\n",
    "                if plot:\n",
    "                    plot_peak(energy[:500], counts[:500], energy[bin325:bin404], peakpos, TC, x, BKG, y_savgol, peak_diff, fwhm, filename,\n",
    "                              mu=energy[bin325+peakpos] , sigma=sigma, norm=peakmax)\n",
    "                \n",
    "                return (0,0,0,0), (peakmax, fwhm, center, sigma), z\n",
    "            \n",
    "        else:\n",
    "            print(\"Two peaks\")\n",
    "    \n",
    "            peakpos = numpy.argmax(peak_diff)\n",
    "            peakmax = numpy.max(peak_diff)\n",
    "\n",
    "            ##fit gaussian\n",
    "            peak_delta = 10\n",
    "            x_g = energy[bin325+peakpos-3.*peak_delta:bin325+peakpos+int(1.5*peak_delta)+1]\n",
    "            #y_g = counts[bin325+peakpos-3.*peak_delta:bin325+peakpos+peak_delta+1:]\n",
    "            y_g = peak_diff[peakpos-3.*peak_delta:peakpos+int(1.5*peak_delta)+1]\n",
    "            y_g = numpy.where(y_g > 0., y_g, 0.)\n",
    "\n",
    "            y_g0 = y_g\n",
    "            g = []\n",
    "            for i in range(len(y_g)):\n",
    "                for j in range(int(y_g0[i])):\n",
    "                    g.append([x_g[i]])  # sklearn wants it as a [[1][2]..]\n",
    "\n",
    "\n",
    "            samples = numpy.array(g)\n",
    "\n",
    "            gmix = mixture.GMM(n_components=2) #, covariance_type='full')\n",
    "            gmix.fit(samples)\n",
    "\n",
    "            p = [(gmix.means_[0, 0], math.sqrt(gmix.covars_[0, 0])), #mean, sigma\n",
    "                 (gmix.means_[1, 0], math.sqrt(gmix.covars_[1, 0]))]  #mean, sigma\n",
    "            p = sorted(p, key=lambda x: x[0])\n",
    "\n",
    "            mu1 = p[0][0]\n",
    "            mu2 = p[1][0]\n",
    "            sigma1 = p[0][1]\n",
    "            sigma2 = p[1][1]\n",
    "            fwhm1 = get_fwhm(sigma1)\n",
    "            fwhm2 = get_fwhm(sigma2)\n",
    "\n",
    "            if plot:\n",
    "                plot_two_peaks(energy[:500], counts[:500], energy[bin325:bin404], [peakpos1, peakpos2], TC, x, BKG, y_savgol, peak_diff, gmix, \n",
    "                             filename, [peakmax1, peakmax2], [sigma1, sigma2], [mu1, mu2])\n",
    "\n",
    "            #energy_full = energy[:500]\n",
    "            #counts_full = counts[:500]\n",
    "            #energy = energy[bin325:bin404]\n",
    "            #counts_savgol = y_savgol\n",
    "            #counts_fit = TC\n",
    "\n",
    "            #print \"GMM\", gmix.means_\n",
    "            #print \"GMM\", gmix.covars_\n",
    "            #print \"GMM\", gmix.weights_      \n",
    "            return (peakmax1, fwhm1, energy[bin325+peakpos1], sigma1), (peakmax2, fwhm2, energy[bin325+peakpos2], sigma2), z\n",
    "\n",
    "        \n",
    "def plot_two_peaks(energy_full, counts_full, energy, peakpos, counts, x, counts_fit, counts_savgol, peak_diff, gmix,\n",
    "                      filename=None, peakmax=[1.,1.], sigma=[1., 1.], mu=[1.,1.]):        \n",
    "      \n",
    "    #print filename        \n",
    "    fig = plt.figure(figsize=(12,14))\n",
    "    ax = fig.add_subplot(311)\n",
    "    ax.plot(energy_full, counts_full, label='counts')\n",
    "    ax.plot(x,counts_savgol, label='savgol counts')\n",
    "    ax.plot(energy, counts_fit, label='fit')\n",
    "    plt.legend()\n",
    "    ax = fig.add_subplot(312)\n",
    "    ax.plot(energy, peak_diff)\n",
    "    for ppos in peakpos:\n",
    "        ax.axvline(energy[ppos], color='r', label='peak')\n",
    "    #print energy[peakpos]-tFWHM/2, energy[peakpos]+tFWHM/2\n",
    "    #ax.axvspan(energy[peakpos]-tFWHM/2, energy[peakpos]+tFWHM/2, facecolor='g', alpha=0.5, label='FWHM')\n",
    "    plt.legend()\n",
    "\n",
    "    #max_peak_index = numpy.argmax(gmix.means_[:,0])  # right peak is higher\n",
    "    #min_peak_index = numpy.argmin(gmix.means_[:,0])  # left peak si higher\n",
    "   \n",
    "    #no1\n",
    "    import math\n",
    "    #mu1 = energy_full[numpy.digitize(gmix.means_[max_peak_index,0], energy_full)]\n",
    "    #mu2 = energy_full[numpy.digitize(gmix.means_[min_peak_index,0], energy_full)]\n",
    "    mu1 = mu[0] #energy[peakpos[0]]\n",
    "    mu2 = mu[1] #energy[peakpos[1]]\n",
    "    sigma1 = sigma[0] #math.sqrt(gmix.covars_[max_peak_index,0])\n",
    "    sigma2 = sigma[1] #math.sqrt(gmix.covars_[min_peak_index,0])\n",
    "    #w1 = gmix.weights_[max_peak_index]\n",
    "    #w2 = gmix.weights_[min_peak_index]\n",
    "\n",
    "    #print \"main peak:\", max_peak_index\n",
    "    peakmax1 = peakmax[0]\n",
    "    peakmax2 = peakmax[1]\n",
    "    \n",
    "    #print mu1, mu2, sigma1, sigma2\n",
    "    \n",
    "    norm1=peakmax1#*(math.sqrt(2*math.pi)*math.sqrt(gmix.covars_[max_peak_index,0]))/gmix.weights_[max_peak_index]\n",
    "    norm2=peakmax2#*(math.sqrt(2*math.pi)*math.sqrt(gmix.covars_[min_peak_index,0]))/gmix.weights_[min_peak_index]\n",
    "    \n",
    "    #no1\n",
    "    #print \"plotting peak1\"\n",
    "    ax.plot(energy, gauss(energy, mu1, sigma1, norm1))\n",
    "\n",
    "    #no2\n",
    "    #print \"plotting peak2\"\n",
    "    ax.plot(energy, gauss(energy, mu2, sigma2, norm2))\n",
    "\n",
    "\n",
    "    ax = fig.add_subplot(313)\n",
    "    #######################################################################################\n",
    "    ax.plot(energy, peak_diff-gauss(energy, mu1, sigma1, norm1))\n",
    "    for ppos in peakpos:\n",
    "        ax.axvline(energy[ppos], color='r', label='peak')\n",
    "    #print energy[peakpos]-tFWHM/2, energy[peakpos]+tFWHM/2\n",
    "    #ax.axvspan(energy[peakpos]-tFWHM/2, energy[peakpos]+tFWHM/2, facecolor='g', alpha=0.5, label='FWHM')\n",
    "    plt.legend()\n",
    "\n",
    "    #max_peak_index = numpy.argmax(gmix.means_[:,0])  # right peak is higher\n",
    "    #min_peak_index = numpy.argmin(gmix.means_[:,0])  # left peak si higher\n",
    "   \n",
    "    #no1\n",
    "    import math\n",
    "    #mu1 = energy_full[numpy.digitize(gmix.means_[max_peak_index,0], energy_full)]\n",
    "    #mu2 = energy_full[numpy.digitize(gmix.means_[min_peak_index,0], energy_full)]\n",
    "    mu1 = mu[0] #energy[peakpos[0]]\n",
    "    mu2 = mu[1] #energy[peakpos[1]]\n",
    "    sigma1 = sigma[0] #math.sqrt(gmix.covars_[max_peak_index,0])\n",
    "    sigma2 = sigma[1] #math.sqrt(gmix.covars_[min_peak_index,0])\n",
    "    #w1 = gmix.weights_[max_peak_index]\n",
    "    #w2 = gmix.weights_[min_peak_index]\n",
    "\n",
    "    #print \"main peak:\", max_peak_index\n",
    "    peakmax1 = peakmax[0]\n",
    "    peakmax2 = peakmax[1]\n",
    "    \n",
    "    #print mu1, mu2, sigma1, sigma2\n",
    "    \n",
    "    norm1=peakmax1#*(math.sqrt(2*math.pi)*math.sqrt(gmix.covars_[max_peak_index,0]))/gmix.weights_[max_peak_index]\n",
    "    norm2=peakmax2#*(math.sqrt(2*math.pi)*math.sqrt(gmix.covars_[min_peak_index,0]))/gmix.weights_[min_peak_index]\n",
    "    \n",
    "    #no1\n",
    "    #print \"plotting peak1\"\n",
    "    ax.plot(energy, gauss(energy, mu1, sigma1, norm1))\n",
    "\n",
    "    #no2\n",
    "    #print \"plotting peak2\"\n",
    "    ax.plot(energy, gauss(energy, mu2, sigma2, norm2))    \n",
    "    #######################################################################################\n",
    "    if filename:\n",
    "        plt.savefig('%s.pdf' % filename)            \n",
    "            \n",
    "\n",
    "\n",
    "def p_file(filedir, filename, fi, outdir):\n",
    "    counts, header = read_1h_file(os.path.join(filedir, filename))\n",
    "    xfilt = savgol_filter(counts, 5, 2)\n",
    "    \n",
    "    #do spectra shift\n",
    "    peaks = find_peaks(xfilt)\n",
    "    x = peaks\n",
    "    y = corresponding_energies\n",
    "    z = numpy.polyfit( x, y, 2)\n",
    "    scalepoly = numpy.poly1d(z)\n",
    "    new_E_scale = scalepoly(range(2048))\n",
    "    \n",
    "    (peakmax1, fwhm1, peakpos1, sigma1), (peakmax2, fwhm2, peakpos2, sigma2), z = get_peak_twin_poc(new_E_scale, counts, filename, plot=True)\n",
    "    print (peakmax1, fwhm1, peakpos1, sigma1), (peakmax2, fwhm2, peakpos2, sigma2), z\n",
    "    return (peakmax1, fwhm1, peakpos1, sigma1), (peakmax2, fwhm2, peakpos2, sigma2), z\n",
    "    #write_file(header, new_E_scale, counts, os.path.join(outdir, filename))\n",
    "    #write_peak_file(peakmax, fwhm, center, sigma, z_poly, filename, fi, os.path.join(outdir, 'peak_250', 'peaks_250.txt'))\n",
    "    "
   ]
  },
  {
   "cell_type": "code",
   "execution_count": null,
   "metadata": {
    "collapsed": false,
    "scrolled": false
   },
   "outputs": [],
   "source": [
    "(peakmax1, fwhm1, peakpos1, sigma1), (peakmax2, fwhm2, peakpos2, sigma2), z = p_file(\"gigo\", 'DET01_2013-05-21_08-14-09.TXT', 1, '.')"
   ]
  },
  {
   "cell_type": "markdown",
   "metadata": {},
   "source": [
    "### Pipeline"
   ]
  },
  {
   "cell_type": "code",
   "execution_count": null,
   "metadata": {
    "collapsed": true
   },
   "outputs": [],
   "source": [
    "from datetime import datetime as dt\n",
    "\n",
    "def read_1h_file(filepath):\n",
    "    with open(filepath, 'r') as f:\n",
    "        s = f.readlines()\n",
    "        index = 0\n",
    "        counts = numpy.zeros(2048)\n",
    "        for line in s[4:]:\n",
    "            count = line.strip().split()[1]\n",
    "            counts[index] = count\n",
    "            index += 1\n",
    "    return counts, s[:4]\n",
    "    \n",
    "\n",
    "def write_file(header, new_E_scale, counts, outpath):\n",
    "    for e, c in zip(new_E_scale, counts):\n",
    "        header.append('%15.5f %10d\\n' % (e, c))\n",
    "        \n",
    "    with open(outpath, 'w+') as f:\n",
    "        f.writelines(header)\n",
    "\n",
    "\n",
    "def write_peak_file(t1, t2, z_poly, filename, fi, outpath):\n",
    "    \n",
    "    (peakmax1, fwhm1, peakpos1, sigma1) = t1\n",
    "    (peakmax2, fwhm2, peakpos2, sigma2) = t2\n",
    "    #z\n",
    "    \n",
    "    lines = []\n",
    "    datestring = dt.strptime(filename, \"DET01_%Y-%m-%d_%H-%M-%S.TXT\").strftime(\"%d/%m/%Y %H:%M:%S\")\n",
    "    lines.append(datestring+'\\n')\n",
    "    lines.append('peakmax, fwhm, center, sigma\\n')\n",
    "    lines.append('%5.4f %5.4f %5.4f %5.4f\\n' % t1)\n",
    "    lines.append('%5.4f %5.4f %5.4f %5.4f\\n' % t2)\n",
    "    lines.append('polynom:')\n",
    "    lines.append(' ax**3 + bx**2 + cx + d \\n')\n",
    "    lines.append('%10.9f %10.9f %10.9f %10.9f\\n\\n' % (z_poly[0], z_poly[1], z_poly[2], z_poly[3]))\n",
    "\n",
    "    if fi == 0:\n",
    "        with open(outpath, 'w+') as f:\n",
    "            f.writelines(lines)\n",
    "    else:\n",
    "        with open(outpath, 'a') as f:\n",
    "            f.writelines(lines)\n",
    "        \n",
    "\n",
    "def process_file(filedir, filename, fi, outdir):\n",
    "    counts, header = read_1h_file(os.path.join(filedir, filename))\n",
    "    xfilt = savgol_filter(counts, 5, 2)\n",
    "    \n",
    "    #do spectra shift\n",
    "    peaks = find_peaks(xfilt)\n",
    "    x = peaks\n",
    "    y = corresponding_energies\n",
    "    \n",
    "    z = numpy.polyfit( x, y, 2)\n",
    "    scalepoly = numpy.poly1d(z)\n",
    "    new_E_scale = scalepoly(range(2048))\n",
    "    \n",
    "    t1, t2, z_poly = get_peak_twin_poc(new_E_scale, counts, filename, plot=False)\n",
    "    #write_file(header, new_E_scale, counts, os.path.join(outdir, filename))\n",
    "    ##BOXPLOT write_peak_file(t1, t2, z_poly, filename, fi, os.path.join(outdir, 'peak_twin', 'peaks_twin.txt'))\n",
    "    \n",
    "    if t1[0] > t2[0]:\n",
    "        return t1[2], t1[0]\n",
    "    else:\n",
    "        return t2[2], t2[0]"
   ]
  },
  {
   "cell_type": "code",
   "execution_count": null,
   "metadata": {
    "collapsed": false,
    "scrolled": false
   },
   "outputs": [],
   "source": [
    "hourly_files_dir = os.path.join('hourly')\n",
    "files = os.listdir(hourly_files_dir)\n",
    "\n",
    "peak661_2_boxplots = []\n",
    "\n",
    "for fi, fn in enumerate(files[:]):\n",
    "    if not fi % 100: print(fi, fn)\n",
    "    pos, value = process_file(hourly_files_dir, fn, fi, 'hourly_calib')\n",
    "    peak661_2_boxplots.append((pos, value))\n",
    "    "
   ]
  },
  {
   "cell_type": "markdown",
   "metadata": {
    "collapsed": true
   },
   "source": [
    "## this ^^^ is computed for John, now do the same with 81keV peak"
   ]
  },
  {
   "cell_type": "code",
   "execution_count": null,
   "metadata": {
    "collapsed": true
   },
   "outputs": [],
   "source": [
    "peak661_2_boxplots = numpy.array(peak661_2_boxplots)\n",
    "peak661_2_boxplots.shape\n",
    "scipy.io.savemat('boxplots.m', {\"p364\": peak_364_boxplots,\n",
    "                                \"p250\": peak250_boxplot,\n",
    "                                \"p662\": peak661_2_boxplots,\n",
    "                                \"p81\" : peak81_boxplot})"
   ]
  },
  {
   "cell_type": "code",
   "execution_count": null,
   "metadata": {
    "collapsed": false
   },
   "outputs": [],
   "source": [
    "fig = plt.figure()\n",
    "ax = fig.add_subplot(111)\n",
    "ax.boxplot([peak81_boxplot[:,1], peak250_boxplot[:,1], peak_364_boxplots[:,1], peak661_2_boxplots[:,1]],showfliers=False)\n",
    "ax.set_xticklabels(['81keV','250keV','364keV','661.6keV'])\n",
    "ax.set_xlabel('Energy')\n",
    "ax.set_ylabel('Count')"
   ]
  },
  {
   "cell_type": "code",
   "execution_count": null,
   "metadata": {
    "collapsed": false
   },
   "outputs": [],
   "source": [
    "fig = plt.figure()\n",
    "ax = fig.add_subplot(111)\n",
    "ax.boxplot([peak81_boxplot[:,1], peak250_boxplot[:,1], peak_364_boxplots[:,1], peak661_2_boxplots[:,1]],showfliers=True)\n",
    "ax.set_xticklabels(['81keV','250keV','364keV','661.6keV'])\n",
    "ax.set_yscale('log')\n",
    "ax.set_xlabel('Energy')\n",
    "ax.set_ylabel('Count')"
   ]
  },
  {
   "cell_type": "code",
   "execution_count": null,
   "metadata": {
    "collapsed": false
   },
   "outputs": [],
   "source": [
    "fig = plt.figure()\n",
    "ax = fig.add_subplot(111)\n",
    "ax.boxplot([peak81_boxplot[:,0], peak250_boxplot[:,0], peak_364_boxplots[:,0], peak661_2_boxplots[:,0]],showfliers=False)\n",
    "ax.set_xticklabels(['81keV','250keV','364keV','661.6keV'])\n",
    "ax.set_xlabel('Energy')\n",
    "ax.set_ylabel('position [keV]')"
   ]
  },
  {
   "cell_type": "markdown",
   "metadata": {},
   "source": [
    "## Iodine 81keV NEW and simple! Jan 26 2018 - 11/6/18 augmented on gridsearch"
   ]
  },
  {
   "cell_type": "code",
   "execution_count": 3,
   "metadata": {
    "collapsed": true
   },
   "outputs": [],
   "source": [
    "import scipy.io\n",
    "energy_all = scipy.io.loadmat(\"energy_all\")[\"energy_all\"]"
   ]
  },
  {
   "cell_type": "code",
   "execution_count": 31,
   "metadata": {
    "collapsed": true
   },
   "outputs": [],
   "source": [
    "from scipy.interpolate import griddata\n",
    "from lmfit.models import GaussianModel\n",
    "\n",
    "expected_peak_centers = (20, 211, 385)\n",
    "#expected_peak_centers = (20, 115, 211, 385)\n",
    "corresponding_energies = (36.5, 364.5, 661.6)  # keV\n",
    "#corresponding_energies = (36.5, 284.3, 364.5, 661.6)  # keV\n",
    "\n",
    "\n",
    "import numpy\n",
    "def gauss(x, mu, sigma, norm=1):\n",
    "    #print x\n",
    "    #print mu, sigma\n",
    "    ret = numpy.exp(-(x-mu)**2/2./sigma**2)\n",
    "    #print(ret)\n",
    "    return ret * norm\n",
    "\n",
    "def plot_peak(energy_full, counts_full, energy, peakpos, counts, x, counts_fit, counts_savgol, peak_diff, tFWHM, \n",
    "              filename=None, mu=None, sigma=None, norm=1.):    \n",
    "    \n",
    "    fig = plt.figure(figsize=(12,10))\n",
    "    ax = fig.add_subplot(211)\n",
    "    ax.plot(energy_full, counts_full, label='counts')\n",
    "    ax.plot(x,counts_savgol, label='savgol counts')\n",
    "    ax.plot(energy, counts_fit, label='fit')\n",
    "    plt.legend()\n",
    "    ax = fig.add_subplot(212)\n",
    "    ax.plot(energy, peak_diff)\n",
    "    ax.axvline(energy[peakpos], color='r', label='peak')\n",
    "    print energy[peakpos]-tFWHM/2, energy[peakpos]+tFWHM/2\n",
    "    ax.axvspan(energy[peakpos]-tFWHM/2, energy[peakpos]+tFWHM/2, facecolor='g', alpha=0.5, label='FWHM')\n",
    "    plt.legend()\n",
    "    \n",
    "    if not mu is None and not sigma is None:  # mu = peakpos\n",
    "        ax.plot(energy, gauss(energy, mu, sigma, norm))\n",
    "        \n",
    "        \n",
    "    \n",
    "    if filename:\n",
    "        plt.savefig('%s.pdf' % filename)\n",
    "        \n",
    "\n",
    "\n",
    "\n",
    "\"\"\"\n",
    "def plot_two_peaks(energy_full, counts_full, energy, peakpos, counts, x, counts_fit, counts_savgol, peak_diff, gmix,\n",
    "                      filename=None, peakmax=[1.,1.], sigma=[1., 1.], mu=[1.,1.]):        \n",
    "      \n",
    "    #print filename        \n",
    "    fig = plt.figure(figsize=(12,14))\n",
    "    ax = fig.add_subplot(311)\n",
    "    ax.plot(energy_full, counts_full, label='counts')\n",
    "    ax.plot(x,counts_savgol, label='savgol counts')\n",
    "    ax.plot(energy, counts_fit, label='fit')\n",
    "    plt.legend()\n",
    "    ax = fig.add_subplot(312)\n",
    "    ax.plot(energy, peak_diff)\n",
    "    for ppos in peakpos:\n",
    "        ax.axvline(energy[ppos], color='r', label='peak')\n",
    "    #print energy[peakpos]-tFWHM/2, energy[peakpos]+tFWHM/2\n",
    "    #ax.axvspan(energy[peakpos]-tFWHM/2, energy[peakpos]+tFWHM/2, facecolor='g', alpha=0.5, label='FWHM')\n",
    "    plt.legend()\n",
    "\n",
    "    #max_peak_index = numpy.argmax(gmix.means_[:,0])  # right peak is higher\n",
    "    #min_peak_index = numpy.argmin(gmix.means_[:,0])  # left peak si higher\n",
    "   \n",
    "    #no1\n",
    "    import math\n",
    "    #mu1 = energy_full[numpy.digitize(gmix.means_[max_peak_index,0], energy_full)]\n",
    "    #mu2 = energy_full[numpy.digitize(gmix.means_[min_peak_index,0], energy_full)]\n",
    "    \n",
    "    ##mu1 = mu[0]\n",
    "    ##mu2 = mu[1]\n",
    "    mu1 = energy[peakpos[0]]\n",
    "    mu2 = energy[peakpos[1]]\n",
    "    \n",
    "    sigma1 = sigma[0] #math.sqrt(gmix.covars_[max_peak_index,0])\n",
    "    sigma2 = sigma[1] #math.sqrt(gmix.covars_[min_peak_index,0])\n",
    "    #w1 = gmix.weights_[max_peak_index]\n",
    "    #w2 = gmix.weights_[min_peak_index]\n",
    "\n",
    "    #print \"main peak:\", max_peak_index\n",
    "    peakmax1 = peakmax[0]\n",
    "    peakmax2 = peakmax[1]\n",
    "    \n",
    "    #print mu1, mu2, sigma1, sigma2\n",
    "    \n",
    "    norm1=peakmax1#*(math.sqrt(2*math.pi)*math.sqrt(gmix.covars_[max_peak_index,0]))/gmix.weights_[max_peak_index]\n",
    "    norm2=peakmax2#*(math.sqrt(2*math.pi)*math.sqrt(gmix.covars_[min_peak_index,0]))/gmix.weights_[min_peak_index]\n",
    "    \n",
    "    #no1\n",
    "    #print \"plotting peak1\"\n",
    "    ax.plot(energy, gauss_n(energy, mu1, sigma1, norm1))\n",
    "\n",
    "    #no2\n",
    "    #print \"plotting peak2\"\n",
    "    ax.plot(energy, gauss_n(energy, mu2, sigma2, norm2))\n",
    "\n",
    "\n",
    "    ax = fig.add_subplot(313)\n",
    "    #######################################################################################\n",
    "    ax.plot(energy, peak_diff-gauss_n(energy, mu1, sigma1, norm1))\n",
    "    for ppos in peakpos:\n",
    "        ax.axvline(energy[ppos], color='r', label='peak')\n",
    "    #print energy[peakpos]-tFWHM/2, energy[peakpos]+tFWHM/2\n",
    "    #ax.axvspan(energy[peakpos]-tFWHM/2, energy[peakpos]+tFWHM/2, facecolor='g', alpha=0.5, label='FWHM')\n",
    "    plt.legend()\n",
    "\n",
    "    #max_peak_index = numpy.argmax(gmix.means_[:,0])  # right peak is higher\n",
    "    #min_peak_index = numpy.argmin(gmix.means_[:,0])  # left peak si higher\n",
    "   \n",
    "    #no1\n",
    "    import math\n",
    "    #mu1 = energy_full[numpy.digitize(gmix.means_[max_peak_index,0], energy_full)]\n",
    "    #mu2 = energy_full[numpy.digitize(gmix.means_[min_peak_index,0], energy_full)]\n",
    "    ##mu1 = mu[0]\n",
    "    ##mu2 = mu[1]\n",
    "    mu1 = energy[peakpos[0]]\n",
    "    mu2 = energy[peakpos[1]]\n",
    "    sigma1 = sigma[0] #math.sqrt(gmix.covars_[max_peak_index,0])\n",
    "    sigma2 = sigma[1] #math.sqrt(gmix.covars_[min_peak_index,0])\n",
    "    #w1 = gmix.weights_[max_peak_index]\n",
    "    #w2 = gmix.weights_[min_peak_index]\n",
    "\n",
    "    #print \"main peak:\", max_peak_index\n",
    "    peakmax1 = peakmax[0]\n",
    "    peakmax2 = peakmax[1]\n",
    "    \n",
    "    print \"plot\", mu1, mu2, sigma1, sigma2\n",
    "    \n",
    "    norm1=peakmax1#*(math.sqrt(2*math.pi)*math.sqrt(gmix.covars_[max_peak_index,0]))/gmix.weights_[max_peak_index]\n",
    "    norm2=peakmax2#*(math.sqrt(2*math.pi)*math.sqrt(gmix.covars_[min_peak_index,0]))/gmix.weights_[min_peak_index]\n",
    "    \n",
    "    #no1\n",
    "    #print \"plotting peak1\"\n",
    "    ax.plot(energy, gauss(energy, mu1, sigma1, norm1))\n",
    "\n",
    "    #no2\n",
    "    #print \"plotting peak2\"\n",
    "    ax.plot(energy, gauss(energy, mu2, sigma2, norm2))    \n",
    "    #######################################################################################\n",
    "    if filename:\n",
    "        plt.savefig('%s.pdf' % filename)            \n",
    "            \n",
    "\"\"\"\n",
    "\n",
    "def read_1h_file(filepath):\n",
    "    with open(filepath, 'r') as f:\n",
    "        s = f.readlines()\n",
    "        index = 0\n",
    "        counts = numpy.zeros(2048)\n",
    "        for line in s[4:]:\n",
    "            count = line.strip().split()[1]\n",
    "            counts[index] = count\n",
    "            index += 1\n",
    "    return counts, s[:4]\n",
    "    \n",
    "    \n",
    "\n",
    "def find_peaks(x, delta=15):\n",
    "    #delta defines the radious\n",
    "    peaks = []\n",
    "    for p in expected_peak_centers:\n",
    "        x0 = x[p-delta: p+delta]\n",
    "        #pea = find_peaks_cwt(x0, numpy.arange(1,10))\n",
    "        #print pea\n",
    "        peaks.append(p-delta+x0.argmax())\n",
    "        \n",
    "    return numpy.array(peaks)    \n",
    "    \n",
    "\n",
    "\n",
    "def p_file(filedir, filename, fi, outdir):\n",
    "    counts, header = read_1h_file(os.path.join(filedir, filename))\n",
    "    xfilt = savgol_filter(counts, 5, 2)\n",
    "    \n",
    "    #do spectra shift\n",
    "    peaks = find_peaks(xfilt)\n",
    "    x = peaks\n",
    "    y = corresponding_energies\n",
    "    z = numpy.polyfit( x, y, 2)\n",
    "    scalepoly = numpy.poly1d(z)\n",
    "    new_E_scale = scalepoly(range(2048))\n",
    "    \n",
    "    (peakmax1, fwhm1, peakpos1, sigma1), (peakmax2, fwhm2, peakpos2, sigma2), z = get_peak_twin81_poc(new_E_scale, counts, filename, plot=True)\n",
    "    print (peakmax1, fwhm1, peakpos1, sigma1), (peakmax2, fwhm2, peakpos2, sigma2), z\n",
    "    return (peakmax1, fwhm1, peakpos1, sigma1), (peakmax2, fwhm2, peakpos2, sigma2), z"
   ]
  },
  {
   "cell_type": "code",
   "execution_count": 38,
   "metadata": {
    "collapsed": false
   },
   "outputs": [],
   "source": [
    "from scipy.signal import savgol_filter\n",
    "from sklearn.mixture import GaussianMixture\n",
    "from sklearn import mixture\n",
    "import math\n",
    "import numpy\n",
    "import warnings\n",
    "warnings.filterwarnings(\"ignore\", category=DeprecationWarning)\n",
    "#warnings.filterwarnings(\"ignore\", category=VisibleDeprecationWarning)\n",
    "\n",
    "\n",
    "\n",
    "\n",
    "def get_fwhm(sigma):\n",
    "    \"\"\"\n",
    "    taken from http://mathworld.wolfram.com/GaussianFunction.html    \n",
    "    \"\"\"\n",
    "    return 2.3548*sigma\n",
    "    \n",
    "\n",
    "def gauss_n(x, mu, sigma, norm=1):\n",
    "    \"also with norlalization factor - the normal one\"\n",
    "    \n",
    "\n",
    "    #print x\n",
    "    #print mu, sigma\n",
    "    ret = 1./(math.sqrt(2*math.pi)*sigma) *numpy.exp(-(x-mu)**2/2./sigma**2)\n",
    "    #print(ret)\n",
    "    return ret * norm\n",
    "\n",
    "\n",
    "def get_peak_twin81_poc(energy, counts, filename=None, plot=False):\n",
    "    #subsample on 3 sub-bins\n",
    "    new_scale = numpy.linspace(energy[0], energy[-1], 2048*3)\n",
    "    new_counts = griddata(energy, counts, (new_scale,), method='linear')\n",
    "    \n",
    "    energy = new_scale\n",
    "    counts = new_counts\n",
    "    \n",
    "    try:\n",
    "        \n",
    "        bin_40 = numpy.digitize(45, energy)\n",
    "        bin_50 = numpy.digitize(55, energy)\n",
    "        #left_min = bin_40+numpy.argmin(counts[bin_40:bin_50])\n",
    "        #print \"left min:\", left_min, \"energy:\", energy[left_min], energy[left_min]\n",
    "        bin75 = numpy.digitize(79, energy)\n",
    "        \n",
    "        bin325 = bin_40  # int(left_min)  #numpy.digitize(left_min, energy)\n",
    "        bin342 = bin_50  # int(left_min+10)  # numpy.digitize(left_min+20, energy)\n",
    "\n",
    "        bin387 = numpy.digitize(95, energy)\n",
    "        bin404 = numpy.digitize(110, energy)        \n",
    "    except:\n",
    "        print filename\n",
    "        return (0, 0, 0, 0), (0, 0, 0, 0), [0,0,0,0]\n",
    "    else:\n",
    "\n",
    "        #do polyfit\n",
    "        x = numpy.hstack((energy[bin325:bin342], energy[bin387:bin404]))\n",
    "        #print x\n",
    "        y = numpy.hstack((counts[bin325:bin342], counts[bin387:bin404]))\n",
    "\n",
    "        y_savgol = numpy.hstack((savgol_filter(counts[bin325:bin342], 5, 1), savgol_filter(counts[bin387:bin404], 5, 1)))\n",
    "        z = numpy.polyfit(x, y, 3)\n",
    "\n",
    "        #get it as a polynom\n",
    "        trans_p1 = numpy.poly1d(z)\n",
    "\n",
    "        #estimated background\n",
    "        BKG = trans_p1(energy[bin325:bin404])\n",
    "        #tru counts\n",
    "        TC = counts[bin325:bin404]\n",
    "\n",
    "        #subtract background\n",
    "        peak_diff =TC-BKG\n",
    "\n",
    "        ####    \n",
    "        #approximate position of the peak at 81keV \n",
    "        peakpos_c = numpy.digitize(81, energy)-bin325\n",
    "        peakmax = peak_diff[peakpos_c]\n",
    "\n",
    "        def fitt(peakpos, peakmax, peak_delta):\n",
    "            x_g = energy[bin325+peakpos-peak_delta:bin325+peakpos+peak_delta:]\n",
    "            y_g = counts[bin325+peakpos-peak_delta:bin325+peakpos+peak_delta:]\n",
    "            y_g = numpy.where(y_g > 0., y_g, 0.)\n",
    "\n",
    "            mod = GaussianModel()\n",
    "            pars = mod.guess(y_g, x=x_g)\n",
    "            #print(pars)\n",
    "            pars.__repr__()\n",
    "            fwhm = pars['fwhm']._val\n",
    "            sigma = pars['sigma']._val\n",
    "            amplitude = pars['amplitude']._val\n",
    "            center = pars['center']._val\n",
    "            #print center, sigma, fwhm, peakmax\n",
    "\n",
    "\n",
    "            #difference in peka diff and data\n",
    "            curve_1 = peak_diff[bin75-bin325: bin404-bin325]\n",
    "            curve_2 = gauss(energy[bin325:bin404], energy[bin325:bin404][peakpos], sigma, peakmax)[bin75-bin325: bin404-bin325]\n",
    "            numdiff = numpy.sum((curve_1-curve_2)**2)\n",
    "            #print('===Difference: peakdelta=%d,  %5.4f,  %5.4f, diff=%4.5e' % (peak_delta, peakpos, peakmax, numdiff))\n",
    "            return numdiff, fwhm, sigma, amplitude, center\n",
    "\n",
    "        diff_vector = []\n",
    "        fit_params = []\n",
    "        \n",
    "        try_delta = 12\n",
    "        try_peak_delta = 24\n",
    "        for peakpos in range(max(0,peakpos_c-try_delta), min(peak_diff.shape[0], peakpos_c+try_delta+1)):\n",
    "            ##fit gaussian\n",
    "            \n",
    "            \n",
    "            if peak_diff[peakpos] > 0:\n",
    "                peakmax = peak_diff[peakpos]\n",
    "                for peak_delta in range(6, try_peak_delta):\n",
    "                    numdiff, fwhm, sigma, amplitude, center = fitt(peakpos, peakmax, peak_delta)\n",
    "                    diff_vector.append(numdiff)\n",
    "                    fit_params.append((peakpos, peakmax, peak_delta))\n",
    "\n",
    "        diff_vector = numpy.array(diff_vector)\n",
    "        \n",
    "        peakpos, peakmax, peak_delta = fit_params[numpy.argmin(diff_vector)]\n",
    "        \n",
    "        numdiff, fwhm, sigma, amplitude, center = fitt(peakpos, peakmax, peak_delta)\n",
    "        #####3\n",
    "        \n",
    "        \"\"\"\n",
    "        delta81 = 5\n",
    "        left81 = numpy.digitize(81 - delta81, energy)\n",
    "        right81 = numpy.digitize(81 + delta81, energy)\n",
    "        \n",
    "        pos81 = left81 + numpy.argmax(peak_diff[left81-bin325:right81+1-bin325])\n",
    "        \n",
    "        \n",
    "        ##fit gaussian\n",
    "        peak_delta = 10\n",
    "        #pos81 = numpy.digitize(81, energy)\n",
    "        peakpos = pos81-bin325#-1\n",
    "        print(peakpos)\n",
    "        peakmax = peak_diff[peakpos]\n",
    "        x_g = energy[pos81-peak_delta:pos81+peak_delta+1:]\n",
    "        \n",
    "        print(pos81-peak_delta , pos81+peak_delta+1)\n",
    "        print(bin325)\n",
    "        print(peak_diff.shape)\n",
    "        y_g = peak_diff[peakpos-peak_delta:peakpos+peak_delta+1]\n",
    "        print(y_g)\n",
    "        y_g = numpy.where(y_g > 0., y_g, 0.)\n",
    "\n",
    "        mod = GaussianModel()\n",
    "        pars = mod.guess(y_g, x=x_g)\n",
    "        print pars\n",
    "        fwhm = pars['fwhm']._val\n",
    "        sigma = pars['sigma']._val\n",
    "        amplitude = pars['amplitude']._val\n",
    "        center = pars['center']._val\n",
    "        #print center, sigma, fwhm, peakmax\n",
    "        \"\"\"\n",
    "        if plot:\n",
    "            plot_peak(energy[:500], counts[:500], energy[bin325:bin404], peakpos, TC, x, BKG, y_savgol, peak_diff, fwhm, filename,\n",
    "                      mu=energy[bin325+peakpos] , sigma=sigma, norm=peakmax)\n",
    "\n",
    "        return (0,0,0,0), (peakmax, fwhm, center, sigma), z\n",
    "\n",
    "\n",
    "        \n"
   ]
  },
  {
   "cell_type": "code",
   "execution_count": 39,
   "metadata": {
    "collapsed": false
   },
   "outputs": [
    {
     "name": "stdout",
     "output_type": "stream",
     "text": [
      "80.3894901895 88.4474301723\n",
      "(0, 0, 0, 0) (60678.932096630539, 8.057939982856265, 84.418460180883528, 3.42189211186259) [ -2.02465442e-01   4.62284739e+01  -2.88914375e+03   7.39242214e+04]\n"
     ]
    },
    {
     "data": {
      "image/png": "[encoded data removed]",
      "text/plain": [
       "<matplotlib.figure.Figure at 0x1ef4198>"
      ]
     },
     "metadata": {},
     "output_type": "display_data"
    }
   ],
   "source": [
    "(peakmax1, fwhm1, peakpos1, sigma1), (peakmax2, fwhm2, peakpos2, sigma2), z = p_file(\"gigo\", 'DET01_2013-03-29_06-56-16.TXT', 1, '.')"
   ]
  },
  {
   "cell_type": "markdown",
   "metadata": {},
   "source": [
    "### pipeline"
   ]
  },
  {
   "cell_type": "code",
   "execution_count": 40,
   "metadata": {
    "collapsed": true
   },
   "outputs": [],
   "source": [
    "from datetime import datetime as dt\n",
    "\n",
    "def read_1h_file(filepath):\n",
    "    with open(filepath, 'r') as f:\n",
    "        s = f.readlines()\n",
    "        index = 0\n",
    "        counts = numpy.zeros(2048)\n",
    "        for line in s[4:]:\n",
    "            count = line.strip().split()[1]\n",
    "            counts[index] = count\n",
    "            index += 1\n",
    "    return counts, s[:4]\n",
    "    \n",
    "\n",
    "def write_file(header, new_E_scale, counts, outpath):\n",
    "    for e, c in zip(new_E_scale, counts):\n",
    "        header.append('%15.5f %10d\\n' % (e, c))\n",
    "        \n",
    "    with open(outpath, 'w+') as f:\n",
    "        f.writelines(header)\n",
    "\n",
    "\n",
    "def write_peak_file(t1, t2, z_poly, filename, fi, outpath):\n",
    "    \n",
    "    (peakmax1, fwhm1, peakpos1, sigma1) = t1\n",
    "    (peakmax2, fwhm2, peakpos2, sigma2) = t2\n",
    "    #z\n",
    "    \n",
    "    lines = []\n",
    "    datestring = dt.strptime(filename, \"DET01_%Y-%m-%d_%H-%M-%S.TXT\").strftime(\"%d/%m/%Y %H:%M:%S\")\n",
    "    lines.append(datestring+'\\n')\n",
    "    lines.append('peakmax, fwhm, center, sigma\\n')\n",
    "    #lines.append('%5.4f %5.4f %5.4f %5.4f\\n' % t1)\n",
    "    lines.append('%5.4f %5.4f %5.4f %5.4f\\n' % t2)\n",
    "    lines.append('polynom:')\n",
    "    lines.append(' ax**3 + bx**2 + cx + d \\n')\n",
    "    lines.append('%10.9f %10.9f %10.9f %10.9f\\n\\n' % (z_poly[0], z_poly[1], z_poly[2], z_poly[3]))\n",
    "\n",
    "    if fi == 0:\n",
    "        with open(outpath, 'w+') as f:\n",
    "            f.writelines(lines)\n",
    "    else:\n",
    "        with open(outpath, 'a') as f:\n",
    "            f.writelines(lines)\n",
    "        \n",
    "\n",
    "def process_file(filedir, filename, fi, outdir):\n",
    "    counts, header = read_1h_file(os.path.join(filedir, filename))\n",
    "    xfilt = savgol_filter(counts, 5, 2)\n",
    "    \n",
    "    #do spectra shift\n",
    "    peaks = find_peaks(xfilt)\n",
    "    x = peaks\n",
    "    y = corresponding_energies\n",
    "    \n",
    "    z = numpy.polyfit( x, y, 2)\n",
    "    scalepoly = numpy.poly1d(z)\n",
    "    new_E_scale = scalepoly(range(2048))\n",
    "    \n",
    "    try:\n",
    "        t1, t2, z_poly = get_peak_twin81_poc(new_E_scale, counts, filename, plot=False)\n",
    "    except:\n",
    "        t1, t2, z_poly = (0,0,0,0), (0,0,0,0), (0,0,0,0)\n",
    "        print \"=====\", filename, \"Failed\"\n",
    "    #write_file(header, new_E_scale, counts, os.path.join(outdir, filename))\n",
    "    write_peak_file(t1, t2, z_poly, filename, fi, os.path.join(outdir, 'peak_81', 'peaks_81_subbin.txt'))\n",
    "    \n",
    "    return t2[2], t2[0]\n",
    "    "
   ]
  },
  {
   "cell_type": "code",
   "execution_count": 41,
   "metadata": {
    "collapsed": false,
    "scrolled": true
   },
   "outputs": [
    {
     "name": "stdout",
     "output_type": "stream",
     "text": [
      "(0, 'DET01_2013-03-01_09-08-39.TXT')\n",
      "(100, 'DET01_2013-03-05_13-55-25.TXT')\n",
      "(200, 'DET01_2013-03-09_18-51-38.TXT')\n",
      "(300, 'DET01_2013-03-13_23-39-44.TXT')\n",
      "(400, 'DET01_2013-03-18_04-30-38.TXT')\n",
      "(500, 'DET01_2013-03-22_09-24-25.TXT')\n",
      "(600, 'DET01_2013-03-26_14-18-29.TXT')\n",
      "===== DET01_2013-03-28_13-45-43.TXT Failed\n",
      "(700, 'DET01_2013-03-30_19-17-52.TXT')\n",
      "(800, 'DET01_2013-04-04_00-52-11.TXT')\n",
      "(900, 'DET01_2013-04-08_05-41-50.TXT')\n",
      "(1000, 'DET01_2013-04-12_10-31-25.TXT')\n",
      "(1100, 'DET01_2013-04-16_15-18-35.TXT')\n",
      "(1200, 'DET01_2013-04-20_20-06-02.TXT')\n",
      "(1300, 'DET01_2013-04-25_01-02-53.TXT')\n",
      "(1400, 'DET01_2013-04-29_05-50-36.TXT')\n",
      "(1500, 'DET01_2013-05-03_11-28-52.TXT')\n",
      "(1600, 'DET01_2013-05-07_16-18-22.TXT')\n",
      "(1700, 'DET01_2013-05-11_21-09-45.TXT')\n",
      "(1800, 'DET01_2013-05-16_02-01-30.TXT')\n",
      "(1900, 'DET01_2013-05-20_07-01-21.TXT')\n",
      "(2000, 'DET01_2013-05-24_11-53-04.TXT')\n",
      "(2100, 'DET01_2013-05-28_16-40-43.TXT')\n",
      "(2200, 'DET01_2013-06-01_22-19-27.TXT')\n",
      "(2300, 'DET01_2013-06-06_03-07-16.TXT')\n",
      "(2400, 'DET01_2013-06-10_07-54-39.TXT')\n",
      "(2500, 'DET01_2013-06-14_12-44-24.TXT')\n",
      "(2600, 'DET01_2013-06-18_17-40-25.TXT')\n",
      "(2700, 'DET01_2013-06-22_22-27-10.TXT')\n",
      "(2800, 'DET01_2013-06-27_03-17-54.TXT')\n",
      "(2900, 'DET01_2013-07-01_09-10-00.TXT')\n",
      "(3000, 'DET01_2013-07-05_14-02-37.TXT')\n",
      "(3100, 'DET01_2013-07-09_18-53-23.TXT')\n",
      "(3200, 'DET01_2013-07-13_23-50-20.TXT')\n",
      "(3300, 'DET01_2013-07-18_04-38-43.TXT')\n",
      "(3400, 'DET01_2013-07-22_09-26-41.TXT')\n",
      "(3500, 'DET01_2013-07-26_14-13-39.TXT')\n",
      "(3600, 'DET01_2013-07-30_19-00-45.TXT')\n",
      "(3700, 'DET01_2013-08-04_00-38-49.TXT')\n",
      "(3800, 'DET01_2013-08-08_05-36-00.TXT')\n",
      "(3900, 'DET01_2013-08-12_10-24-19.TXT')\n",
      "(4000, 'DET01_2013-08-16_15-13-44.TXT')\n",
      "(4100, 'DET01_2013-08-20_20-03-02.TXT')\n",
      "(4200, 'DET01_2013-08-25_00-54-13.TXT')\n",
      "(4300, 'DET01_2013-08-29_05-47-04.TXT')\n",
      "(4400, 'DET01_2013-09-02_11-33-01.TXT')\n",
      "(4500, 'DET01_2013-09-06_16-27-36.TXT')\n",
      "(4600, 'DET01_2013-09-10_21-21-48.TXT')\n",
      "(4700, 'DET01_2013-09-15_02-16-50.TXT')\n",
      "(4800, 'DET01_2013-09-19_07-10-49.TXT')\n",
      "(4900, 'DET01_2013-09-23_12-02-14.TXT')\n",
      "(5000, 'DET01_2013-09-27_16-52-46.TXT')\n",
      "(5100, 'DET01_2013-10-01_22-13-02.TXT')\n",
      "(5200, 'DET01_2013-10-06_03-04-28.TXT')\n",
      "(5300, 'DET01_2013-10-10_08-07-31.TXT')\n",
      "(5400, 'DET01_2013-10-14_13-10-14.TXT')\n",
      "(5500, 'DET01_2013-10-18_18-12-03.TXT')\n",
      "(5600, 'DET01_2013-10-22_23-06-34.TXT')\n",
      "(5700, 'DET01_2013-10-27_04-02-42.TXT')\n",
      "(5800, 'DET01_2013-10-31_08-51-01.TXT')\n",
      "(5900, 'DET01_2013-11-04_13-52-23.TXT')\n",
      "(6000, 'DET01_2013-11-08_18-53-49.TXT')\n",
      "(6100, 'DET01_2013-11-12_23-47-03.TXT')\n",
      "(6200, 'DET01_2013-11-17_04-34-50.TXT')\n",
      "(6300, 'DET01_2013-11-21_09-22-20.TXT')\n",
      "(6400, 'DET01_2013-11-25_14-10-21.TXT')\n",
      "(6500, 'DET01_2013-11-29_19-01-02.TXT')\n",
      "(6600, 'DET01_2013-12-04_00-38-26.TXT')\n",
      "(6700, 'DET01_2013-12-08_05-26-41.TXT')\n",
      "(6800, 'DET01_2013-12-12_10-15-18.TXT')\n",
      "(6900, 'DET01_2013-12-16_15-05-51.TXT')\n",
      "(7000, 'DET01_2013-12-20_19-57-11.TXT')\n",
      "(7100, 'DET01_2014-01-03_13-33-04.TXT')\n",
      "(7200, 'DET01_2014-01-07_18-20-15.TXT')\n",
      "(7300, 'DET01_2014-01-11_23-07-29.TXT')\n",
      "(7400, 'DET01_2014-01-16_03-54-37.TXT')\n",
      "(7500, 'DET01_2014-01-20_08-41-55.TXT')\n",
      "(7600, 'DET01_2014-02-05_15-30-28.TXT')\n",
      "(7700, 'DET01_2014-02-10_08-54-54.TXT')\n",
      "(7800, 'DET01_2014-02-14_14-03-04.TXT')\n",
      "(7900, 'DET01_2014-02-18_19-11-58.TXT')\n",
      "===== DET01_2014-02-20_00-31-32.TXT Failed\n",
      "(8000, 'DET01_2014-02-23_00-06-59.TXT')\n",
      "(8100, 'DET01_2014-02-27_04-54-35.TXT')\n",
      "(8200, 'DET01_2014-03-03_10-32-44.TXT')\n",
      "(8300, 'DET01_2014-03-07_15-20-31.TXT')\n",
      "(8400, 'DET01_2014-03-11_20-16-59.TXT')\n"
     ]
    }
   ],
   "source": [
    "hourly_files_dir = os.path.join('hourly')\n",
    "files = os.listdir(hourly_files_dir)\n",
    "\n",
    "peak81_boxplot = []\n",
    "\n",
    "for fi, fn in enumerate(files[:]):\n",
    "    if not fi % 100: print(fi, fn)\n",
    "    pos, value = process_file(hourly_files_dir, fn, fi, 'hourly_calib')\n",
    "    peak81_boxplot.append((pos, value))\n",
    "    "
   ]
  },
  {
   "cell_type": "code",
   "execution_count": null,
   "metadata": {
    "collapsed": false
   },
   "outputs": [],
   "source": [
    "peak81_boxplot = numpy.array(peak81_boxplot)\n",
    "peak81_boxplot.shape\n",
    "scipy.io.savemat('boxplots.m', {\"p364\": peak_364_boxplots,\n",
    "                                \"p250\": peak250_boxplot,\n",
    "                                \"p662\": peak662_boxplot,\n",
    "                                \"p81\" : peak81_boxplot})"
   ]
  }
 ],
 "metadata": {
  "kernelspec": {
   "display_name": "Python 2",
   "language": "python",
   "name": "python2"
  },
  "language_info": {
   "codemirror_mode": {
    "name": "ipython",
    "version": 2
   },
   "file_extension": ".py",
   "mimetype": "text/x-python",
   "name": "python",
   "nbconvert_exporter": "python",
   "pygments_lexer": "ipython2",
   "version": "2.7.13"
  }
 },
 "nbformat": 4,
 "nbformat_minor": 2
}
